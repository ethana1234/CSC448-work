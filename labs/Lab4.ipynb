{
 "cells": [
  {
   "cell_type": "markdown",
   "metadata": {
    "slideshow": {
     "slide_type": "slide"
    }
   },
   "source": [
    "# Lab 4 - How do we compare DNA sequences?\n",
    "## Dynamic Programming\n",
    "Material and embedded lab.\n",
    "\n",
    "Motivation and some exercises are variations on those available in Bioinformatics Algorithms: An Active-Learning Approach by Phillip Compeau & Pavel Pevzner."
   ]
  },
  {
   "cell_type": "code",
   "execution_count": 1,
   "metadata": {
    "slideshow": {
     "slide_type": "skip"
    }
   },
   "outputs": [
    {
     "data": {
      "text/plain": [
       "['../tests/answers_Lab4.joblib']"
      ]
     },
     "execution_count": 1,
     "metadata": {},
     "output_type": "execute_result"
    }
   ],
   "source": []
  },
  {
   "cell_type": "markdown",
   "metadata": {
    "slideshow": {
     "slide_type": "slide"
    }
   },
   "source": [
    "# History and motivation\n",
    "\n",
    "Searching all new sequences against sequence databases is now the first order of business in genomics!\n",
    "\n",
    "Where did this come from?"
   ]
  },
  {
   "cell_type": "markdown",
   "metadata": {
    "slideshow": {
     "slide_type": "subslide"
    }
   },
   "source": [
    "## Quick aside about the book chapter\n",
    "\n",
    "So the book has a very interesting introduction to this topic, but I would say that it requires more biology than currently within reach of this class. Please read their introduction with this in mind, and don't get hung up on it. Instead consider the following."
   ]
  },
  {
   "cell_type": "markdown",
   "metadata": {
    "slideshow": {
     "slide_type": "subslide"
    }
   },
   "source": [
    "## Identification of homologous genes\n",
    "* Two genes are homologous if they share a common ancestor\n",
    "* Living organisms share a large number of genes descended from common ancestors \n",
    "* Functionality is preserved but differences in sequence accumulate as they diverge from each other. \n",
    "* These differences may be due to mutations that change a symbol (nucleotide or amino acid) for another or insertions / deletions, indels, which insert or delete a symbol in the corresponding sequence."
   ]
  },
  {
   "cell_type": "markdown",
   "metadata": {
    "slideshow": {
     "slide_type": "subslide"
    }
   },
   "source": [
    "## Our life this lab/lecture\n",
    "\n",
    "<img src=\"https://raw.githubusercontent.com/gregcaporaso/An-Introduction-To-Applied-Bioinformatics/master/book/fundamentals/images/alignment.png\">"
   ]
  },
  {
   "cell_type": "markdown",
   "metadata": {
    "slideshow": {
     "slide_type": "subslide"
    }
   },
   "source": [
    "## An important distinction (and a biologist will correct you every time)\n",
    "* Homology is a dichotomous characteristic, i.e., given two genes are either homologous genes or not. It is binary.\n",
    "\n",
    "* However, given two sequences corresponding to two genes, can be said that there are different levels of similarity based on an alignment between them. \n",
    "* Our key question is to determine whether a good alignment between two sequences is significant enough to consider that both genes are homologous. \n",
    "    * This task is done through a hypothesis testing and the corresponding p-values are used to make a decision."
   ]
  },
  {
   "cell_type": "markdown",
   "metadata": {
    "slideshow": {
     "slide_type": "subslide"
    }
   },
   "source": [
    "## Two different forms of homology. \n",
    "Paralogs - When the origin of two homologous genes is due to a process of gene duplication within the same species\n",
    "\n",
    "Orthologous genes - origin is due to a speciation process resulting in homologous genes in these different species"
   ]
  },
  {
   "cell_type": "markdown",
   "metadata": {
    "slideshow": {
     "slide_type": "slide"
    }
   },
   "source": [
    "# Introduction to Sequence Alignment\n",
    "How do you align/match up ATGCTTA and TGCATTAA that have subtle similarities?\n",
    "<pre>\n",
    "ATGC-TTA-\n",
    "-TGCATTAA\n",
    "</pre>\n",
    "\n",
    "It's all a game. The goal is to maximize \"points\" which for us is matching nucleotides or amino acids.\n",
    "\n",
    "At each turn, you have two choices\n",
    "1. You can remove the first symbol from both sequences and align them. You'll earn a point if they match.\n",
    "2. You can remove the first symbol from either of the two sequences in which case you earn no points, but you may set yourself up to earn more points later. "
   ]
  },
  {
   "cell_type": "markdown",
   "metadata": {
    "slideshow": {
     "slide_type": "subslide"
    }
   },
   "source": [
    "### Greedy approach\n",
    "Let's say that we want to take a greedy approach to alignment. Meaning we will only consider the choice in front of us. Example:\n",
    "\n",
    "<pre>\n",
    "s1=AACCTTGG\n",
    "s2=ACACTGTGA\n",
    "</pre>\n",
    "\n",
    "For each move in the game: \n",
    "    * if s1[0] == s2[0], then add s1[0] to the longest common subsequence. \n",
    "    * else randomly choose to either remove s1[0], s2[0], or both s1[0] and s2[0]"
   ]
  },
  {
   "cell_type": "markdown",
   "metadata": {
    "slideshow": {
     "slide_type": "subslide"
    }
   },
   "source": [
    "**Exercise 1** Use a greedy approach to return suboptimal (or optimal) solutions to the longest common subsequence problem.\n",
    "\n",
    "Find a longest common subsequence of two strings\n",
    "\n",
    "Input: Two strings\n",
    "\n",
    "Output: A longest common subsequence of these strings"
   ]
  },
  {
   "cell_type": "code",
   "execution_count": 3,
   "metadata": {
    "slideshow": {
     "slide_type": "subslide"
    }
   },
   "outputs": [
    {
     "output_type": "stream",
     "name": "stdout",
     "text": "AC\nATG\nACCT\nACG\n"
    }
   ],
   "source": [
    "import random\n",
    "\n",
    "def random_action(s1,s2):\n",
    "    assert len(s1) > 0 and len(s2) > 0\n",
    "    choices = [(s1[1:],s2[1:]),(s1[1:],s2), (s1,s2[1:])]\n",
    "    return random.choice(choices)\n",
    "    \n",
    "def greedy_lcs(s1,s2,seed=0):\n",
    "    random.seed(seed)\n",
    "    lcs = \"\"\n",
    "    while len(s1) > 0 and len(s2) > 0:\n",
    "        if s1[0] == s2[0]:\n",
    "            lcs += s1[0]\n",
    "            s1,s2 = s1[1:],s2[1:]\n",
    "        else:\n",
    "            s1,s2 = random_action(s1,s2)\n",
    "    return lcs\n",
    "\n",
    "\n",
    "print(greedy_lcs(\"AACCTTGG\",\"ACACTGTGA\",seed=0))\n",
    "print(greedy_lcs(\"AACCTTGG\",\"ACACTGTGA\",seed=100))\n",
    "print(greedy_lcs(\"AACCTTGG\",\"ACACTGTGA\",seed=1000))\n",
    "print(greedy_lcs(\"AACCTTGG\",\"ACACTGTGA\",seed=2000))"
   ]
  },
  {
   "cell_type": "markdown",
   "metadata": {
    "slideshow": {
     "slide_type": "subslide"
    }
   },
   "source": [
    "Well... That was easy to implement, but the longest common subsequence is AACTGG, so we did not really solve the problem. Before we move on though, let's modify our algorithm so it returns the alignment (i.e., with indels and mutations).\n",
    "\n",
    "**Exercise 2** Modify your solution to exercise 1 to return the alignment as two strings with \"-\" characters when there is a indel. Do not modify ``random_action`` as that is what the autograder is going to rely on you using. HINT: Just keep track of the strings before calling ``random_action``."
   ]
  },
  {
   "cell_type": "code",
   "execution_count": 15,
   "metadata": {
    "slideshow": {
     "slide_type": "subslide"
    }
   },
   "outputs": [
    {
     "output_type": "stream",
     "name": "stdout",
     "text": "AACCTT-GG\nA-C-A-C--\n\nAACCT-TGG\nAC--ACTG-\n\nAAC-CTTGG\nA-CACTG--\n\nAACCTT-GG\nA-CA--CTG\n"
    }
   ],
   "source": [
    "def greedy_alignment(s1,s2,seed=0):\n",
    "    random.seed(seed)\n",
    "    s1_new = \"\"\n",
    "    s2_new = \"\"\n",
    "    while len(s1) > 0 and len(s2) > 0:\n",
    "        if s1[0] == s2[0]:\n",
    "            s1_new += s1[0]\n",
    "            s2_new += s2[0]\n",
    "            s1,s2 = s1[1:],s2[1:]\n",
    "        else:\n",
    "            s1_copy,s2_copy = s1,s2\n",
    "            s1,s2 = random_action(s1,s2)\n",
    "            if len(s1) != len(s1_copy) and len(s2) != len(s2_copy):\n",
    "                s1_new += s1_copy[0]\n",
    "                s2_new += s2_copy[0]\n",
    "            elif len(s1) != len(s1_copy):\n",
    "                s1_new += s1_copy[0]\n",
    "                s2_new += '-'\n",
    "            elif len(s2) != len(s2_copy):\n",
    "                s2_new += s2_copy[0]\n",
    "                s1_new += '-'\n",
    "    return \"\\n\".join([s1_new,s2_new])\n",
    "\n",
    "\n",
    "print(greedy_alignment(\"AACCTTGG\",\"ACACTGTGA\",seed=0))\n",
    "print()\n",
    "print(greedy_alignment(\"AACCTTGG\",\"ACACTGTGA\",seed=100))\n",
    "print()\n",
    "print(greedy_alignment(\"AACCTTGG\",\"ACACTGTGA\",seed=1000))\n",
    "print()\n",
    "print(greedy_alignment(\"AACCTTGG\",\"ACACTGTGA\",seed=2000))"
   ]
  },
  {
   "cell_type": "markdown",
   "metadata": {
    "slideshow": {
     "slide_type": "subslide"
    }
   },
   "source": [
    "## Why do we have mismatches in our alignment? Why not just gaps?\n",
    "When consider both nucleotide sequences and amino acid sequences (different alphabets if you are a pure CS thinker), then sometimes you can achieve a better overall alignment if you allow for mismatches. In fact, some mismatches are actually neutral in certain ways when you consider their impact on the organism and its biology.\n",
    "\n",
    "**But how do we find the optimal solution which is by definition the longest common subsequence?** Let's not worry about that for a moment and remind ourselves of dynamic programming and recurrance relations."
   ]
  },
  {
   "cell_type": "markdown",
   "metadata": {
    "slideshow": {
     "slide_type": "slide"
    }
   },
   "source": [
    "# An Introduction to Dynamic Programming: The Change Problem\n",
    "\n",
    "**Change Problem:** Find the minimum number of coins needed to make change.\n",
    "\n",
    "Input: An integer ``money`` and an array ``coins`` of $d$ positive integers.\n",
    "\n",
    "Output: The minimum number of coins with denominations ``coins`` that changes ``money``."
   ]
  },
  {
   "cell_type": "markdown",
   "metadata": {
    "slideshow": {
     "slide_type": "subslide"
    }
   },
   "source": [
    "Consider the problem to change 76 cents in a country with only three denominations: ``coins=[6,5,1]``. A minimal colection of coins totaling 76 cents must be one of the following:\n",
    "* a minimal collection of coins totaling 75 cents, plus a 1-cent coin\n",
    "* a minimal collection of coins totaling 71 cents, plust a 5-cent coin\n",
    "* a minimal collection of coins totaling 70 cents, plus a 6-cent coin\n",
    "\n",
    "This illustrates a nice recurrence relation for us:\n",
    "$$\n",
    "\\mbox{MinNumCoins}(money) = min\n",
    "\\left\\{\n",
    "    \\begin{array}{l}\n",
    "      \\mbox{MinNumCoins}(money-coin_1) + 1\\\\\n",
    "      \\mbox{...}\\\\\n",
    "      \\mbox{MinNumCoins}(money-coin_d)+1\n",
    "    \\end{array}\n",
    "  \\right\\}\n",
    "$$"
   ]
  },
  {
   "cell_type": "markdown",
   "metadata": {
    "slideshow": {
     "slide_type": "subslide"
    }
   },
   "source": [
    "**Exercise 3** Solve the change problem using the recurance relation given above.\n",
    "\n",
    "Input: An integer ``money`` and an array ``coins`` of $d$ positive integers.\n",
    "\n",
    "Output: The minimum number of coins with denominations ``coins`` that changes ``money``."
   ]
  },
  {
   "cell_type": "code",
   "execution_count": 20,
   "metadata": {},
   "outputs": [
    {
     "output_type": "execute_result",
     "data": {
      "text/plain": "5"
     },
     "metadata": {},
     "execution_count": 20
    }
   ],
   "source": [
    "import numpy as np\n",
    "\n",
    "def min_num_coins(money,coins):\n",
    "    min_coins = np.Inf\n",
    "    for coin in coins:\n",
    "        if coin > money:\n",
    "            continue\n",
    "        elif coin == money:\n",
    "            return 1\n",
    "        num_coin = min_num_coins(money - coin, coins) + 1\n",
    "        min_coins = num_coin if num_coin < min_coins else min_coins\n",
    "    return min_coins\n",
    "\n",
    "\n",
    "min_num_coins(27,[6,5,1])"
   ]
  },
  {
   "cell_type": "markdown",
   "metadata": {
    "slideshow": {
     "slide_type": "subslide"
    }
   },
   "source": [
    "## Let's time some results"
   ]
  },
  {
   "cell_type": "code",
   "execution_count": 21,
   "metadata": {
    "slideshow": {
     "slide_type": "fragment"
    }
   },
   "outputs": [
    {
     "output_type": "stream",
     "name": "stdout",
     "text": "14.2 µs ± 32.8 ns per loop (mean ± std. dev. of 7 runs, 100000 loops each)\n"
    }
   ],
   "source": [
    "%%timeit\n",
    "min_num_coins(13,[6,5,1])"
   ]
  },
  {
   "cell_type": "code",
   "execution_count": 22,
   "metadata": {
    "slideshow": {
     "slide_type": "fragment"
    }
   },
   "outputs": [
    {
     "output_type": "stream",
     "name": "stdout",
     "text": "2.21 ms ± 11.8 µs per loop (mean ± std. dev. of 7 runs, 100 loops each)\n"
    }
   ],
   "source": [
    "%%timeit\n",
    "min_num_coins(27,[6,5,1])"
   ]
  },
  {
   "cell_type": "code",
   "execution_count": 23,
   "metadata": {
    "slideshow": {
     "slide_type": "fragment"
    }
   },
   "outputs": [
    {
     "output_type": "stream",
     "name": "stdout",
     "text": "35.7 ms ± 82.8 µs per loop (mean ± std. dev. of 7 runs, 10 loops each)\n"
    }
   ],
   "source": [
    "%%timeit\n",
    "min_num_coins(35,[6,5,1])"
   ]
  },
  {
   "cell_type": "code",
   "execution_count": 24,
   "metadata": {
    "slideshow": {
     "slide_type": "fragment"
    }
   },
   "outputs": [
    {
     "output_type": "stream",
     "name": "stdout",
     "text": "2.38 s ± 3.08 ms per loop (mean ± std. dev. of 7 runs, 1 loop each)\n"
    }
   ],
   "source": [
    "%%timeit\n",
    "min_num_coins(47,[6,5,1])"
   ]
  },
  {
   "cell_type": "markdown",
   "metadata": {
    "slideshow": {
     "slide_type": "subslide"
    }
   },
   "source": [
    "That escalated quickly!"
   ]
  },
  {
   "cell_type": "code",
   "execution_count": 26,
   "metadata": {
    "slideshow": {
     "slide_type": "fragment"
    }
   },
   "outputs": [
    {
     "output_type": "display_data",
     "data": {
      "text/plain": "<Figure size 432x288 with 1 Axes>",
      "image/svg+xml": "<?xml version=\"1.0\" encoding=\"utf-8\" standalone=\"no\"?>\r\n<!DOCTYPE svg PUBLIC \"-//W3C//DTD SVG 1.1//EN\"\r\n  \"http://www.w3.org/Graphics/SVG/1.1/DTD/svg11.dtd\">\r\n<!-- Created with matplotlib (https://matplotlib.org/) -->\r\n<svg height=\"262.19625pt\" version=\"1.1\" viewBox=\"0 0 385.78125 262.19625\" width=\"385.78125pt\" xmlns=\"http://www.w3.org/2000/svg\" xmlns:xlink=\"http://www.w3.org/1999/xlink\">\r\n <defs>\r\n  <style type=\"text/css\">\r\n*{stroke-linecap:butt;stroke-linejoin:round;}\r\n  </style>\r\n </defs>\r\n <g id=\"figure_1\">\r\n  <g id=\"patch_1\">\r\n   <path d=\"M 0 262.19625 \r\nL 385.78125 262.19625 \r\nL 385.78125 0 \r\nL 0 0 \r\nz\r\n\" style=\"fill:none;\"/>\r\n  </g>\r\n  <g id=\"axes_1\">\r\n   <g id=\"patch_2\">\r\n    <path d=\"M 43.78125 224.64 \r\nL 378.58125 224.64 \r\nL 378.58125 7.2 \r\nL 43.78125 7.2 \r\nz\r\n\" style=\"fill:#ffffff;\"/>\r\n   </g>\r\n   <g id=\"matplotlib.axis_1\">\r\n    <g id=\"xtick_1\">\r\n     <g id=\"line2d_1\">\r\n      <defs>\r\n       <path d=\"M 0 0 \r\nL 0 3.5 \r\n\" id=\"m74f1b1baf2\" style=\"stroke:#000000;stroke-width:0.8;\"/>\r\n      </defs>\r\n      <g>\r\n       <use style=\"stroke:#000000;stroke-width:0.8;\" x=\"76.903175\" xlink:href=\"#m74f1b1baf2\" y=\"224.64\"/>\r\n      </g>\r\n     </g>\r\n     <g id=\"text_1\">\r\n      <!-- 15 -->\r\n      <defs>\r\n       <path d=\"M 12.40625 8.296875 \r\nL 28.515625 8.296875 \r\nL 28.515625 63.921875 \r\nL 10.984375 60.40625 \r\nL 10.984375 69.390625 \r\nL 28.421875 72.90625 \r\nL 38.28125 72.90625 \r\nL 38.28125 8.296875 \r\nL 54.390625 8.296875 \r\nL 54.390625 0 \r\nL 12.40625 0 \r\nz\r\n\" id=\"DejaVuSans-49\"/>\r\n       <path d=\"M 10.796875 72.90625 \r\nL 49.515625 72.90625 \r\nL 49.515625 64.59375 \r\nL 19.828125 64.59375 \r\nL 19.828125 46.734375 \r\nQ 21.96875 47.46875 24.109375 47.828125 \r\nQ 26.265625 48.1875 28.421875 48.1875 \r\nQ 40.625 48.1875 47.75 41.5 \r\nQ 54.890625 34.8125 54.890625 23.390625 \r\nQ 54.890625 11.625 47.5625 5.09375 \r\nQ 40.234375 -1.421875 26.90625 -1.421875 \r\nQ 22.3125 -1.421875 17.546875 -0.640625 \r\nQ 12.796875 0.140625 7.71875 1.703125 \r\nL 7.71875 11.625 \r\nQ 12.109375 9.234375 16.796875 8.0625 \r\nQ 21.484375 6.890625 26.703125 6.890625 \r\nQ 35.15625 6.890625 40.078125 11.328125 \r\nQ 45.015625 15.765625 45.015625 23.390625 \r\nQ 45.015625 31 40.078125 35.4375 \r\nQ 35.15625 39.890625 26.703125 39.890625 \r\nQ 22.75 39.890625 18.8125 39.015625 \r\nQ 14.890625 38.140625 10.796875 36.28125 \r\nz\r\n\" id=\"DejaVuSans-53\"/>\r\n      </defs>\r\n      <g transform=\"translate(70.540675 239.238437)scale(0.1 -0.1)\">\r\n       <use xlink:href=\"#DejaVuSans-49\"/>\r\n       <use x=\"63.623047\" xlink:href=\"#DejaVuSans-53\"/>\r\n      </g>\r\n     </g>\r\n    </g>\r\n    <g id=\"xtick_2\">\r\n     <g id=\"line2d_2\">\r\n      <g>\r\n       <use style=\"stroke:#000000;stroke-width:0.8;\" x=\"121.662533\" xlink:href=\"#m74f1b1baf2\" y=\"224.64\"/>\r\n      </g>\r\n     </g>\r\n     <g id=\"text_2\">\r\n      <!-- 20 -->\r\n      <defs>\r\n       <path d=\"M 19.1875 8.296875 \r\nL 53.609375 8.296875 \r\nL 53.609375 0 \r\nL 7.328125 0 \r\nL 7.328125 8.296875 \r\nQ 12.9375 14.109375 22.625 23.890625 \r\nQ 32.328125 33.6875 34.8125 36.53125 \r\nQ 39.546875 41.84375 41.421875 45.53125 \r\nQ 43.3125 49.21875 43.3125 52.78125 \r\nQ 43.3125 58.59375 39.234375 62.25 \r\nQ 35.15625 65.921875 28.609375 65.921875 \r\nQ 23.96875 65.921875 18.8125 64.3125 \r\nQ 13.671875 62.703125 7.8125 59.421875 \r\nL 7.8125 69.390625 \r\nQ 13.765625 71.78125 18.9375 73 \r\nQ 24.125 74.21875 28.421875 74.21875 \r\nQ 39.75 74.21875 46.484375 68.546875 \r\nQ 53.21875 62.890625 53.21875 53.421875 \r\nQ 53.21875 48.921875 51.53125 44.890625 \r\nQ 49.859375 40.875 45.40625 35.40625 \r\nQ 44.1875 33.984375 37.640625 27.21875 \r\nQ 31.109375 20.453125 19.1875 8.296875 \r\nz\r\n\" id=\"DejaVuSans-50\"/>\r\n       <path d=\"M 31.78125 66.40625 \r\nQ 24.171875 66.40625 20.328125 58.90625 \r\nQ 16.5 51.421875 16.5 36.375 \r\nQ 16.5 21.390625 20.328125 13.890625 \r\nQ 24.171875 6.390625 31.78125 6.390625 \r\nQ 39.453125 6.390625 43.28125 13.890625 \r\nQ 47.125 21.390625 47.125 36.375 \r\nQ 47.125 51.421875 43.28125 58.90625 \r\nQ 39.453125 66.40625 31.78125 66.40625 \r\nz\r\nM 31.78125 74.21875 \r\nQ 44.046875 74.21875 50.515625 64.515625 \r\nQ 56.984375 54.828125 56.984375 36.375 \r\nQ 56.984375 17.96875 50.515625 8.265625 \r\nQ 44.046875 -1.421875 31.78125 -1.421875 \r\nQ 19.53125 -1.421875 13.0625 8.265625 \r\nQ 6.59375 17.96875 6.59375 36.375 \r\nQ 6.59375 54.828125 13.0625 64.515625 \r\nQ 19.53125 74.21875 31.78125 74.21875 \r\nz\r\n\" id=\"DejaVuSans-48\"/>\r\n      </defs>\r\n      <g transform=\"translate(115.300033 239.238437)scale(0.1 -0.1)\">\r\n       <use xlink:href=\"#DejaVuSans-50\"/>\r\n       <use x=\"63.623047\" xlink:href=\"#DejaVuSans-48\"/>\r\n      </g>\r\n     </g>\r\n    </g>\r\n    <g id=\"xtick_3\">\r\n     <g id=\"line2d_3\">\r\n      <g>\r\n       <use style=\"stroke:#000000;stroke-width:0.8;\" x=\"166.421892\" xlink:href=\"#m74f1b1baf2\" y=\"224.64\"/>\r\n      </g>\r\n     </g>\r\n     <g id=\"text_3\">\r\n      <!-- 25 -->\r\n      <g transform=\"translate(160.059392 239.238437)scale(0.1 -0.1)\">\r\n       <use xlink:href=\"#DejaVuSans-50\"/>\r\n       <use x=\"63.623047\" xlink:href=\"#DejaVuSans-53\"/>\r\n      </g>\r\n     </g>\r\n    </g>\r\n    <g id=\"xtick_4\">\r\n     <g id=\"line2d_4\">\r\n      <g>\r\n       <use style=\"stroke:#000000;stroke-width:0.8;\" x=\"211.18125\" xlink:href=\"#m74f1b1baf2\" y=\"224.64\"/>\r\n      </g>\r\n     </g>\r\n     <g id=\"text_4\">\r\n      <!-- 30 -->\r\n      <defs>\r\n       <path d=\"M 40.578125 39.3125 \r\nQ 47.65625 37.796875 51.625 33 \r\nQ 55.609375 28.21875 55.609375 21.1875 \r\nQ 55.609375 10.40625 48.1875 4.484375 \r\nQ 40.765625 -1.421875 27.09375 -1.421875 \r\nQ 22.515625 -1.421875 17.65625 -0.515625 \r\nQ 12.796875 0.390625 7.625 2.203125 \r\nL 7.625 11.71875 \r\nQ 11.71875 9.328125 16.59375 8.109375 \r\nQ 21.484375 6.890625 26.8125 6.890625 \r\nQ 36.078125 6.890625 40.9375 10.546875 \r\nQ 45.796875 14.203125 45.796875 21.1875 \r\nQ 45.796875 27.640625 41.28125 31.265625 \r\nQ 36.765625 34.90625 28.71875 34.90625 \r\nL 20.21875 34.90625 \r\nL 20.21875 43.015625 \r\nL 29.109375 43.015625 \r\nQ 36.375 43.015625 40.234375 45.921875 \r\nQ 44.09375 48.828125 44.09375 54.296875 \r\nQ 44.09375 59.90625 40.109375 62.90625 \r\nQ 36.140625 65.921875 28.71875 65.921875 \r\nQ 24.65625 65.921875 20.015625 65.03125 \r\nQ 15.375 64.15625 9.8125 62.3125 \r\nL 9.8125 71.09375 \r\nQ 15.4375 72.65625 20.34375 73.4375 \r\nQ 25.25 74.21875 29.59375 74.21875 \r\nQ 40.828125 74.21875 47.359375 69.109375 \r\nQ 53.90625 64.015625 53.90625 55.328125 \r\nQ 53.90625 49.265625 50.4375 45.09375 \r\nQ 46.96875 40.921875 40.578125 39.3125 \r\nz\r\n\" id=\"DejaVuSans-51\"/>\r\n      </defs>\r\n      <g transform=\"translate(204.81875 239.238437)scale(0.1 -0.1)\">\r\n       <use xlink:href=\"#DejaVuSans-51\"/>\r\n       <use x=\"63.623047\" xlink:href=\"#DejaVuSans-48\"/>\r\n      </g>\r\n     </g>\r\n    </g>\r\n    <g id=\"xtick_5\">\r\n     <g id=\"line2d_5\">\r\n      <g>\r\n       <use style=\"stroke:#000000;stroke-width:0.8;\" x=\"255.940608\" xlink:href=\"#m74f1b1baf2\" y=\"224.64\"/>\r\n      </g>\r\n     </g>\r\n     <g id=\"text_5\">\r\n      <!-- 35 -->\r\n      <g transform=\"translate(249.578108 239.238437)scale(0.1 -0.1)\">\r\n       <use xlink:href=\"#DejaVuSans-51\"/>\r\n       <use x=\"63.623047\" xlink:href=\"#DejaVuSans-53\"/>\r\n      </g>\r\n     </g>\r\n    </g>\r\n    <g id=\"xtick_6\">\r\n     <g id=\"line2d_6\">\r\n      <g>\r\n       <use style=\"stroke:#000000;stroke-width:0.8;\" x=\"300.699967\" xlink:href=\"#m74f1b1baf2\" y=\"224.64\"/>\r\n      </g>\r\n     </g>\r\n     <g id=\"text_6\">\r\n      <!-- 40 -->\r\n      <defs>\r\n       <path d=\"M 37.796875 64.3125 \r\nL 12.890625 25.390625 \r\nL 37.796875 25.390625 \r\nz\r\nM 35.203125 72.90625 \r\nL 47.609375 72.90625 \r\nL 47.609375 25.390625 \r\nL 58.015625 25.390625 \r\nL 58.015625 17.1875 \r\nL 47.609375 17.1875 \r\nL 47.609375 0 \r\nL 37.796875 0 \r\nL 37.796875 17.1875 \r\nL 4.890625 17.1875 \r\nL 4.890625 26.703125 \r\nz\r\n\" id=\"DejaVuSans-52\"/>\r\n      </defs>\r\n      <g transform=\"translate(294.337467 239.238437)scale(0.1 -0.1)\">\r\n       <use xlink:href=\"#DejaVuSans-52\"/>\r\n       <use x=\"63.623047\" xlink:href=\"#DejaVuSans-48\"/>\r\n      </g>\r\n     </g>\r\n    </g>\r\n    <g id=\"xtick_7\">\r\n     <g id=\"line2d_7\">\r\n      <g>\r\n       <use style=\"stroke:#000000;stroke-width:0.8;\" x=\"345.459325\" xlink:href=\"#m74f1b1baf2\" y=\"224.64\"/>\r\n      </g>\r\n     </g>\r\n     <g id=\"text_7\">\r\n      <!-- 45 -->\r\n      <g transform=\"translate(339.096825 239.238437)scale(0.1 -0.1)\">\r\n       <use xlink:href=\"#DejaVuSans-52\"/>\r\n       <use x=\"63.623047\" xlink:href=\"#DejaVuSans-53\"/>\r\n      </g>\r\n     </g>\r\n    </g>\r\n    <g id=\"text_8\">\r\n     <!-- Money -->\r\n     <defs>\r\n      <path d=\"M 9.8125 72.90625 \r\nL 24.515625 72.90625 \r\nL 43.109375 23.296875 \r\nL 61.8125 72.90625 \r\nL 76.515625 72.90625 \r\nL 76.515625 0 \r\nL 66.890625 0 \r\nL 66.890625 64.015625 \r\nL 48.09375 14.015625 \r\nL 38.1875 14.015625 \r\nL 19.390625 64.015625 \r\nL 19.390625 0 \r\nL 9.8125 0 \r\nz\r\n\" id=\"DejaVuSans-77\"/>\r\n      <path d=\"M 30.609375 48.390625 \r\nQ 23.390625 48.390625 19.1875 42.75 \r\nQ 14.984375 37.109375 14.984375 27.296875 \r\nQ 14.984375 17.484375 19.15625 11.84375 \r\nQ 23.34375 6.203125 30.609375 6.203125 \r\nQ 37.796875 6.203125 41.984375 11.859375 \r\nQ 46.1875 17.53125 46.1875 27.296875 \r\nQ 46.1875 37.015625 41.984375 42.703125 \r\nQ 37.796875 48.390625 30.609375 48.390625 \r\nz\r\nM 30.609375 56 \r\nQ 42.328125 56 49.015625 48.375 \r\nQ 55.71875 40.765625 55.71875 27.296875 \r\nQ 55.71875 13.875 49.015625 6.21875 \r\nQ 42.328125 -1.421875 30.609375 -1.421875 \r\nQ 18.84375 -1.421875 12.171875 6.21875 \r\nQ 5.515625 13.875 5.515625 27.296875 \r\nQ 5.515625 40.765625 12.171875 48.375 \r\nQ 18.84375 56 30.609375 56 \r\nz\r\n\" id=\"DejaVuSans-111\"/>\r\n      <path d=\"M 54.890625 33.015625 \r\nL 54.890625 0 \r\nL 45.90625 0 \r\nL 45.90625 32.71875 \r\nQ 45.90625 40.484375 42.875 44.328125 \r\nQ 39.84375 48.1875 33.796875 48.1875 \r\nQ 26.515625 48.1875 22.3125 43.546875 \r\nQ 18.109375 38.921875 18.109375 30.90625 \r\nL 18.109375 0 \r\nL 9.078125 0 \r\nL 9.078125 54.6875 \r\nL 18.109375 54.6875 \r\nL 18.109375 46.1875 \r\nQ 21.34375 51.125 25.703125 53.5625 \r\nQ 30.078125 56 35.796875 56 \r\nQ 45.21875 56 50.046875 50.171875 \r\nQ 54.890625 44.34375 54.890625 33.015625 \r\nz\r\n\" id=\"DejaVuSans-110\"/>\r\n      <path d=\"M 56.203125 29.59375 \r\nL 56.203125 25.203125 \r\nL 14.890625 25.203125 \r\nQ 15.484375 15.921875 20.484375 11.0625 \r\nQ 25.484375 6.203125 34.421875 6.203125 \r\nQ 39.59375 6.203125 44.453125 7.46875 \r\nQ 49.3125 8.734375 54.109375 11.28125 \r\nL 54.109375 2.78125 \r\nQ 49.265625 0.734375 44.1875 -0.34375 \r\nQ 39.109375 -1.421875 33.890625 -1.421875 \r\nQ 20.796875 -1.421875 13.15625 6.1875 \r\nQ 5.515625 13.8125 5.515625 26.8125 \r\nQ 5.515625 40.234375 12.765625 48.109375 \r\nQ 20.015625 56 32.328125 56 \r\nQ 43.359375 56 49.78125 48.890625 \r\nQ 56.203125 41.796875 56.203125 29.59375 \r\nz\r\nM 47.21875 32.234375 \r\nQ 47.125 39.59375 43.09375 43.984375 \r\nQ 39.0625 48.390625 32.421875 48.390625 \r\nQ 24.90625 48.390625 20.390625 44.140625 \r\nQ 15.875 39.890625 15.1875 32.171875 \r\nz\r\n\" id=\"DejaVuSans-101\"/>\r\n      <path d=\"M 32.171875 -5.078125 \r\nQ 28.375 -14.84375 24.75 -17.8125 \r\nQ 21.140625 -20.796875 15.09375 -20.796875 \r\nL 7.90625 -20.796875 \r\nL 7.90625 -13.28125 \r\nL 13.1875 -13.28125 \r\nQ 16.890625 -13.28125 18.9375 -11.515625 \r\nQ 21 -9.765625 23.484375 -3.21875 \r\nL 25.09375 0.875 \r\nL 2.984375 54.6875 \r\nL 12.5 54.6875 \r\nL 29.59375 11.921875 \r\nL 46.6875 54.6875 \r\nL 56.203125 54.6875 \r\nz\r\n\" id=\"DejaVuSans-121\"/>\r\n     </defs>\r\n     <g transform=\"translate(194.603125 252.916562)scale(0.1 -0.1)\">\r\n      <use xlink:href=\"#DejaVuSans-77\"/>\r\n      <use x=\"86.279297\" xlink:href=\"#DejaVuSans-111\"/>\r\n      <use x=\"147.460938\" xlink:href=\"#DejaVuSans-110\"/>\r\n      <use x=\"210.839844\" xlink:href=\"#DejaVuSans-101\"/>\r\n      <use x=\"272.363281\" xlink:href=\"#DejaVuSans-121\"/>\r\n     </g>\r\n    </g>\r\n   </g>\r\n   <g id=\"matplotlib.axis_2\">\r\n    <g id=\"ytick_1\">\r\n     <g id=\"line2d_8\">\r\n      <defs>\r\n       <path d=\"M 0 0 \r\nL -3.5 0 \r\n\" id=\"m8f7e7ebd98\" style=\"stroke:#000000;stroke-width:0.8;\"/>\r\n      </defs>\r\n      <g>\r\n       <use style=\"stroke:#000000;stroke-width:0.8;\" x=\"43.78125\" xlink:href=\"#m8f7e7ebd98\" y=\"214.757543\"/>\r\n      </g>\r\n     </g>\r\n     <g id=\"text_9\">\r\n      <!-- 0.0 -->\r\n      <defs>\r\n       <path d=\"M 10.6875 12.40625 \r\nL 21 12.40625 \r\nL 21 0 \r\nL 10.6875 0 \r\nz\r\n\" id=\"DejaVuSans-46\"/>\r\n      </defs>\r\n      <g transform=\"translate(20.878125 218.556762)scale(0.1 -0.1)\">\r\n       <use xlink:href=\"#DejaVuSans-48\"/>\r\n       <use x=\"63.623047\" xlink:href=\"#DejaVuSans-46\"/>\r\n       <use x=\"95.410156\" xlink:href=\"#DejaVuSans-48\"/>\r\n      </g>\r\n     </g>\r\n    </g>\r\n    <g id=\"ytick_2\">\r\n     <g id=\"line2d_9\">\r\n      <g>\r\n       <use style=\"stroke:#000000;stroke-width:0.8;\" x=\"43.78125\" xlink:href=\"#m8f7e7ebd98\" y=\"173.229411\"/>\r\n      </g>\r\n     </g>\r\n     <g id=\"text_10\">\r\n      <!-- 0.5 -->\r\n      <g transform=\"translate(20.878125 177.02863)scale(0.1 -0.1)\">\r\n       <use xlink:href=\"#DejaVuSans-48\"/>\r\n       <use x=\"63.623047\" xlink:href=\"#DejaVuSans-46\"/>\r\n       <use x=\"95.410156\" xlink:href=\"#DejaVuSans-53\"/>\r\n      </g>\r\n     </g>\r\n    </g>\r\n    <g id=\"ytick_3\">\r\n     <g id=\"line2d_10\">\r\n      <g>\r\n       <use style=\"stroke:#000000;stroke-width:0.8;\" x=\"43.78125\" xlink:href=\"#m8f7e7ebd98\" y=\"131.70128\"/>\r\n      </g>\r\n     </g>\r\n     <g id=\"text_11\">\r\n      <!-- 1.0 -->\r\n      <g transform=\"translate(20.878125 135.500498)scale(0.1 -0.1)\">\r\n       <use xlink:href=\"#DejaVuSans-49\"/>\r\n       <use x=\"63.623047\" xlink:href=\"#DejaVuSans-46\"/>\r\n       <use x=\"95.410156\" xlink:href=\"#DejaVuSans-48\"/>\r\n      </g>\r\n     </g>\r\n    </g>\r\n    <g id=\"ytick_4\">\r\n     <g id=\"line2d_11\">\r\n      <g>\r\n       <use style=\"stroke:#000000;stroke-width:0.8;\" x=\"43.78125\" xlink:href=\"#m8f7e7ebd98\" y=\"90.173148\"/>\r\n      </g>\r\n     </g>\r\n     <g id=\"text_12\">\r\n      <!-- 1.5 -->\r\n      <g transform=\"translate(20.878125 93.972367)scale(0.1 -0.1)\">\r\n       <use xlink:href=\"#DejaVuSans-49\"/>\r\n       <use x=\"63.623047\" xlink:href=\"#DejaVuSans-46\"/>\r\n       <use x=\"95.410156\" xlink:href=\"#DejaVuSans-53\"/>\r\n      </g>\r\n     </g>\r\n    </g>\r\n    <g id=\"ytick_5\">\r\n     <g id=\"line2d_12\">\r\n      <g>\r\n       <use style=\"stroke:#000000;stroke-width:0.8;\" x=\"43.78125\" xlink:href=\"#m8f7e7ebd98\" y=\"48.645016\"/>\r\n      </g>\r\n     </g>\r\n     <g id=\"text_13\">\r\n      <!-- 2.0 -->\r\n      <g transform=\"translate(20.878125 52.444235)scale(0.1 -0.1)\">\r\n       <use xlink:href=\"#DejaVuSans-50\"/>\r\n       <use x=\"63.623047\" xlink:href=\"#DejaVuSans-46\"/>\r\n       <use x=\"95.410156\" xlink:href=\"#DejaVuSans-48\"/>\r\n      </g>\r\n     </g>\r\n    </g>\r\n    <g id=\"text_14\">\r\n     <!-- Time -->\r\n     <defs>\r\n      <path d=\"M -0.296875 72.90625 \r\nL 61.375 72.90625 \r\nL 61.375 64.59375 \r\nL 35.5 64.59375 \r\nL 35.5 0 \r\nL 25.59375 0 \r\nL 25.59375 64.59375 \r\nL -0.296875 64.59375 \r\nz\r\n\" id=\"DejaVuSans-84\"/>\r\n      <path d=\"M 9.421875 54.6875 \r\nL 18.40625 54.6875 \r\nL 18.40625 0 \r\nL 9.421875 0 \r\nz\r\nM 9.421875 75.984375 \r\nL 18.40625 75.984375 \r\nL 18.40625 64.59375 \r\nL 9.421875 64.59375 \r\nz\r\n\" id=\"DejaVuSans-105\"/>\r\n      <path d=\"M 52 44.1875 \r\nQ 55.375 50.25 60.0625 53.125 \r\nQ 64.75 56 71.09375 56 \r\nQ 79.640625 56 84.28125 50.015625 \r\nQ 88.921875 44.046875 88.921875 33.015625 \r\nL 88.921875 0 \r\nL 79.890625 0 \r\nL 79.890625 32.71875 \r\nQ 79.890625 40.578125 77.09375 44.375 \r\nQ 74.3125 48.1875 68.609375 48.1875 \r\nQ 61.625 48.1875 57.5625 43.546875 \r\nQ 53.515625 38.921875 53.515625 30.90625 \r\nL 53.515625 0 \r\nL 44.484375 0 \r\nL 44.484375 32.71875 \r\nQ 44.484375 40.625 41.703125 44.40625 \r\nQ 38.921875 48.1875 33.109375 48.1875 \r\nQ 26.21875 48.1875 22.15625 43.53125 \r\nQ 18.109375 38.875 18.109375 30.90625 \r\nL 18.109375 0 \r\nL 9.078125 0 \r\nL 9.078125 54.6875 \r\nL 18.109375 54.6875 \r\nL 18.109375 46.1875 \r\nQ 21.1875 51.21875 25.484375 53.609375 \r\nQ 29.78125 56 35.6875 56 \r\nQ 41.65625 56 45.828125 52.96875 \r\nQ 50 49.953125 52 44.1875 \r\nz\r\n\" id=\"DejaVuSans-109\"/>\r\n     </defs>\r\n     <g transform=\"translate(14.798438 128.153594)rotate(-90)scale(0.1 -0.1)\">\r\n      <use xlink:href=\"#DejaVuSans-84\"/>\r\n      <use x=\"57.958984\" xlink:href=\"#DejaVuSans-105\"/>\r\n      <use x=\"85.742188\" xlink:href=\"#DejaVuSans-109\"/>\r\n      <use x=\"183.154297\" xlink:href=\"#DejaVuSans-101\"/>\r\n     </g>\r\n    </g>\r\n   </g>\r\n   <g id=\"line2d_13\">\r\n    <path clip-path=\"url(#pe67d706d68)\" d=\"M 58.999432 214.756364 \r\nL 184.325635 214.573989 \r\nL 255.940608 211.792434 \r\nL 363.363068 17.083636 \r\n\" style=\"fill:none;stroke:#1f77b4;stroke-linecap:square;stroke-width:1.5;\"/>\r\n   </g>\r\n   <g id=\"patch_3\">\r\n    <path d=\"M 43.78125 224.64 \r\nL 43.78125 7.2 \r\n\" style=\"fill:none;stroke:#000000;stroke-linecap:square;stroke-linejoin:miter;stroke-width:0.8;\"/>\r\n   </g>\r\n   <g id=\"patch_4\">\r\n    <path d=\"M 378.58125 224.64 \r\nL 378.58125 7.2 \r\n\" style=\"fill:none;stroke:#000000;stroke-linecap:square;stroke-linejoin:miter;stroke-width:0.8;\"/>\r\n   </g>\r\n   <g id=\"patch_5\">\r\n    <path d=\"M 43.78125 224.64 \r\nL 378.58125 224.64 \r\n\" style=\"fill:none;stroke:#000000;stroke-linecap:square;stroke-linejoin:miter;stroke-width:0.8;\"/>\r\n   </g>\r\n   <g id=\"patch_6\">\r\n    <path d=\"M 43.78125 7.2 \r\nL 378.58125 7.2 \r\n\" style=\"fill:none;stroke:#000000;stroke-linecap:square;stroke-linejoin:miter;stroke-width:0.8;\"/>\r\n   </g>\r\n   <g id=\"legend_1\">\r\n    <g id=\"patch_7\">\r\n     <path d=\"M 50.78125 29.878125 \r\nL 105.373437 29.878125 \r\nQ 107.373437 29.878125 107.373437 27.878125 \r\nL 107.373437 14.2 \r\nQ 107.373437 12.2 105.373437 12.2 \r\nL 50.78125 12.2 \r\nQ 48.78125 12.2 48.78125 14.2 \r\nL 48.78125 27.878125 \r\nQ 48.78125 29.878125 50.78125 29.878125 \r\nz\r\n\" style=\"fill:#ffffff;opacity:0.8;stroke:#cccccc;stroke-linejoin:miter;\"/>\r\n    </g>\r\n    <g id=\"line2d_14\">\r\n     <path d=\"M 52.78125 20.298437 \r\nL 72.78125 20.298437 \r\n\" style=\"fill:none;stroke:#1f77b4;stroke-linecap:square;stroke-width:1.5;\"/>\r\n    </g>\r\n    <g id=\"line2d_15\"/>\r\n    <g id=\"text_15\">\r\n     <!-- time -->\r\n     <defs>\r\n      <path d=\"M 18.3125 70.21875 \r\nL 18.3125 54.6875 \r\nL 36.8125 54.6875 \r\nL 36.8125 47.703125 \r\nL 18.3125 47.703125 \r\nL 18.3125 18.015625 \r\nQ 18.3125 11.328125 20.140625 9.421875 \r\nQ 21.96875 7.515625 27.59375 7.515625 \r\nL 36.8125 7.515625 \r\nL 36.8125 0 \r\nL 27.59375 0 \r\nQ 17.1875 0 13.234375 3.875 \r\nQ 9.28125 7.765625 9.28125 18.015625 \r\nL 9.28125 47.703125 \r\nL 2.6875 47.703125 \r\nL 2.6875 54.6875 \r\nL 9.28125 54.6875 \r\nL 9.28125 70.21875 \r\nz\r\n\" id=\"DejaVuSans-116\"/>\r\n     </defs>\r\n     <g transform=\"translate(80.78125 23.798437)scale(0.1 -0.1)\">\r\n      <use xlink:href=\"#DejaVuSans-116\"/>\r\n      <use x=\"39.208984\" xlink:href=\"#DejaVuSans-105\"/>\r\n      <use x=\"66.992188\" xlink:href=\"#DejaVuSans-109\"/>\r\n      <use x=\"164.404297\" xlink:href=\"#DejaVuSans-101\"/>\r\n     </g>\r\n    </g>\r\n   </g>\r\n  </g>\r\n </g>\r\n <defs>\r\n  <clipPath id=\"pe67d706d68\">\r\n   <rect height=\"217.44\" width=\"334.8\" x=\"43.78125\" y=\"7.2\"/>\r\n  </clipPath>\r\n </defs>\r\n</svg>\r\n",
      "image/png": "[encoded data removed]"
     },
     "metadata": {
      "needs_background": "light"
     }
    }
   ],
   "source": [
    "%matplotlib inline\n",
    "import pandas as pd\n",
    "ax=pd.DataFrame({\"money\":[13,27,35,47],\"time\":[14.2e-6,2.21e-3,35.7e-3,2.38]}).plot.line(x=\"money\",y=\"time\")\n",
    "ax.set_xlabel('Money')\n",
    "ax.set_ylabel('Time');"
   ]
  },
  {
   "cell_type": "markdown",
   "metadata": {
    "slideshow": {
     "slide_type": "subslide"
    }
   },
   "source": [
    "## Is this efficient?\n",
    "Well. Of course not. It recomputes solutions to subproblems over and over again. We will solve this problem using dynamic programming. \n",
    "\n",
    "The book takes a practical approach to dynamic programming, but I would suggest everyone read this section at least on Dynamic programming (https://en.wikipedia.org/wiki/Dynamic_programming#Computer_programming). "
   ]
  },
  {
   "cell_type": "markdown",
   "metadata": {
    "slideshow": {
     "slide_type": "subslide"
    }
   },
   "source": [
    "## Bottom-up approach to coins problem\n",
    "Let's say you knew the following solution to the coins problem for money $\\le$ 12:"
   ]
  },
  {
   "cell_type": "code",
   "execution_count": 10,
   "metadata": {
    "slideshow": {
     "slide_type": "fragment"
    }
   },
   "outputs": [
    {
     "data": {
      "text/html": [
       "<div>\n",
       "<style scoped>\n",
       "    .dataframe tbody tr th:only-of-type {\n",
       "        vertical-align: middle;\n",
       "    }\n",
       "\n",
       "    .dataframe tbody tr th {\n",
       "        vertical-align: top;\n",
       "    }\n",
       "\n",
       "    .dataframe thead th {\n",
       "        text-align: right;\n",
       "    }\n",
       "</style>\n",
       "<table border=\"1\" class=\"dataframe\">\n",
       "  <thead>\n",
       "    <tr style=\"text-align: right;\">\n",
       "      <th>money</th>\n",
       "      <th>0</th>\n",
       "      <th>1</th>\n",
       "      <th>2</th>\n",
       "      <th>3</th>\n",
       "      <th>4</th>\n",
       "      <th>5</th>\n",
       "      <th>6</th>\n",
       "      <th>7</th>\n",
       "      <th>8</th>\n",
       "      <th>9</th>\n",
       "      <th>10</th>\n",
       "      <th>11</th>\n",
       "      <th>12</th>\n",
       "    </tr>\n",
       "  </thead>\n",
       "  <tbody>\n",
       "    <tr>\n",
       "      <td>MinNumCoins(money)</td>\n",
       "      <td>0</td>\n",
       "      <td>1</td>\n",
       "      <td>2</td>\n",
       "      <td>3</td>\n",
       "      <td>1</td>\n",
       "      <td>1</td>\n",
       "      <td>2</td>\n",
       "      <td>3</td>\n",
       "      <td>2</td>\n",
       "      <td>2</td>\n",
       "      <td>2</td>\n",
       "      <td>3</td>\n",
       "      <td>3</td>\n",
       "    </tr>\n",
       "  </tbody>\n",
       "</table>\n",
       "</div>"
      ],
      "text/plain": [
       "money               0   1   2   3   4   5   6   7   8   9   10  11  12\n",
       "MinNumCoins(money)   0   1   2   3   1   1   2   3   2   2   2   3   3"
      ]
     },
     "execution_count": 10,
     "metadata": {},
     "output_type": "execute_result"
    }
   ],
   "source": [
    "pd.DataFrame({\"MinNumCoins(money)\":[0,1,2,3,1,1,2,3,2,2,2,3,3]},index=pd.Index([0,1,2,3,4,5,6,7,8,9,10,11,12],name=\"money\")).T"
   ]
  },
  {
   "cell_type": "markdown",
   "metadata": {
    "slideshow": {
     "slide_type": "subslide"
    }
   },
   "source": [
    "Could you easily compute MinNumCoins(13)? What about MinNumCoins(14)? Let's consider MinNumCoins(13). You only have three potential coins you could add at any given time: [6,5,1]. \n",
    "* You could try to add in a 6, which would mean that MinNumCoins(13) = MinNumCoins(13-6)+1 = MinNumCoins(7)+1 = 4. \n",
    "    * We subtract the 6 because we need to identify the optimal solution to the subproblem we need to examine. \n",
    "* We next try 5: MinNumCoins(13) = MinNumCoins(13-5)+1 = MinNumCoins(8)+1 = 3, which is our best solution so far.\n",
    "* We next try 1: MinNumCoins(13) = MinNumCoins(13-1)+1 = MinNumCoins(12)+1 = 4, which isn't as good.\n",
    "* We don't have anything else to try, so we know our answer is 3!\n",
    "* No recursion, and a simple thing to code up."
   ]
  },
  {
   "cell_type": "markdown",
   "metadata": {
    "slideshow": {
     "slide_type": "subslide"
    }
   },
   "source": [
    "**Exercise 4** Solve the change problem using a bottom-up dynamic programming strategy.\n",
    "\n",
    "Input: An integer ``money`` and an array ``coins`` of $d$ positive integers.\n",
    "\n",
    "Output: The minimum number of coins with denominations ``coins`` that changes ``money``."
   ]
  },
  {
   "cell_type": "code",
   "execution_count": 35,
   "metadata": {
    "slideshow": {
     "slide_type": "fragment"
    }
   },
   "outputs": [
    {
     "output_type": "execute_result",
     "data": {
      "text/plain": "5"
     },
     "metadata": {},
     "execution_count": 35
    }
   ],
   "source": [
    "def min_num_coins_dynamic(money,coins):\n",
    "    min_coins = {0:0} # Base case, no coins needed for no money\n",
    "    for i in range(1,money+1):\n",
    "        all_coins = []\n",
    "        for coin in coins:\n",
    "            if i >= coin:\n",
    "                all_coins.append(min_coins[i - coin] + 1)\n",
    "        min_coins[i] = min(all_coins)\n",
    "    return min_coins[money]\n",
    "\n",
    "\n",
    "min_num_coins_dynamic(27,[6,5,1])"
   ]
  },
  {
   "cell_type": "markdown",
   "metadata": {
    "slideshow": {
     "slide_type": "subslide"
    }
   },
   "source": [
    "Much better runtime!"
   ]
  },
  {
   "cell_type": "code",
   "execution_count": 36,
   "metadata": {
    "slideshow": {
     "slide_type": "fragment"
    }
   },
   "outputs": [
    {
     "output_type": "stream",
     "name": "stdout",
     "text": "25.2 µs ± 144 ns per loop (mean ± std. dev. of 7 runs, 10000 loops each)\n"
    }
   ],
   "source": [
    "%%timeit\n",
    "min_num_coins_dynamic(47,[6,5,1])"
   ]
  },
  {
   "cell_type": "markdown",
   "metadata": {
    "slideshow": {
     "slide_type": "subslide"
    }
   },
   "source": [
    "## Back to sequence alignment\n",
    "What is our recurence relation? Think top down. Remember our greedy actions that were available. We still only have those options available to us. For clarity, I've put our choices into a dataframe with some additional information including the part that would be added to the alignment for s1 and s2. The final column is the score that would be added to the total score."
   ]
  },
  {
   "cell_type": "code",
   "execution_count": 13,
   "metadata": {
    "slideshow": {
     "slide_type": "fragment"
    }
   },
   "outputs": [
    {
     "data": {
      "text/html": [
       "<div>\n",
       "<style scoped>\n",
       "    .dataframe tbody tr th:only-of-type {\n",
       "        vertical-align: middle;\n",
       "    }\n",
       "\n",
       "    .dataframe tbody tr th {\n",
       "        vertical-align: top;\n",
       "    }\n",
       "\n",
       "    .dataframe thead th {\n",
       "        text-align: right;\n",
       "    }\n",
       "</style>\n",
       "<table border=\"1\" class=\"dataframe\">\n",
       "  <thead>\n",
       "    <tr style=\"text-align: right;\">\n",
       "      <th></th>\n",
       "      <th>remainder(s1)</th>\n",
       "      <th>remainder(s2)</th>\n",
       "      <th>s1_part</th>\n",
       "      <th>s2_part</th>\n",
       "      <th>score(s1_part,s2_part)</th>\n",
       "    </tr>\n",
       "  </thead>\n",
       "  <tbody>\n",
       "    <tr>\n",
       "      <td>0</td>\n",
       "      <td>CGT</td>\n",
       "      <td>GCTA</td>\n",
       "      <td>A</td>\n",
       "      <td>A</td>\n",
       "      <td>1</td>\n",
       "    </tr>\n",
       "    <tr>\n",
       "      <td>1</td>\n",
       "      <td>CGT</td>\n",
       "      <td>AGCTA</td>\n",
       "      <td>A</td>\n",
       "      <td>-</td>\n",
       "      <td>0</td>\n",
       "    </tr>\n",
       "    <tr>\n",
       "      <td>2</td>\n",
       "      <td>ACGT</td>\n",
       "      <td>GCTA</td>\n",
       "      <td>-</td>\n",
       "      <td>A</td>\n",
       "      <td>0</td>\n",
       "    </tr>\n",
       "  </tbody>\n",
       "</table>\n",
       "</div>"
      ],
      "text/plain": [
       "  remainder(s1) remainder(s2) s1_part s2_part  score(s1_part,s2_part)\n",
       "0           CGT          GCTA       A       A                       1\n",
       "1           CGT         AGCTA       A       -                       0\n",
       "2          ACGT          GCTA       -       A                       0"
      ]
     },
     "execution_count": 13,
     "metadata": {},
     "output_type": "execute_result"
    }
   ],
   "source": [
    "s1 = \"ACGT\"\n",
    "s2 = \"AGCTA\"\n",
    "choices_df = pd.DataFrame({\"remainder(s1)\":[s1[1:],s1[1:],s1],\n",
    "              \"remainder(s2)\":[s2[1:],s2,s2[1:]],\n",
    "              \"s1_part\":[s1[0],s1[0],\"-\"],\n",
    "              \"s2_part\":[s2[0],\"-\",s2[0]],\n",
    "              \"score(s1_part,s2_part)\":[int(s1[0]==s2[0]),0,0]})\n",
    "choices_df"
   ]
  },
  {
   "cell_type": "code",
   "execution_count": 14,
   "metadata": {
    "slideshow": {
     "slide_type": "subslide"
    }
   },
   "outputs": [
    {
     "data": {
      "text/html": [
       "<div>\n",
       "<style scoped>\n",
       "    .dataframe tbody tr th:only-of-type {\n",
       "        vertical-align: middle;\n",
       "    }\n",
       "\n",
       "    .dataframe tbody tr th {\n",
       "        vertical-align: top;\n",
       "    }\n",
       "\n",
       "    .dataframe thead th {\n",
       "        text-align: right;\n",
       "    }\n",
       "</style>\n",
       "<table border=\"1\" class=\"dataframe\">\n",
       "  <thead>\n",
       "    <tr style=\"text-align: right;\">\n",
       "      <th></th>\n",
       "      <th>remainder(s1)</th>\n",
       "      <th>remainder(s2)</th>\n",
       "      <th>s1_part</th>\n",
       "      <th>s2_part</th>\n",
       "      <th>score(s1_part,s2_part)</th>\n",
       "    </tr>\n",
       "  </thead>\n",
       "  <tbody>\n",
       "    <tr>\n",
       "      <td>0</td>\n",
       "      <td>CGT</td>\n",
       "      <td>GCTA</td>\n",
       "      <td>G</td>\n",
       "      <td>A</td>\n",
       "      <td>0</td>\n",
       "    </tr>\n",
       "    <tr>\n",
       "      <td>1</td>\n",
       "      <td>CGT</td>\n",
       "      <td>AGCTA</td>\n",
       "      <td>G</td>\n",
       "      <td>-</td>\n",
       "      <td>0</td>\n",
       "    </tr>\n",
       "    <tr>\n",
       "      <td>2</td>\n",
       "      <td>GCGT</td>\n",
       "      <td>GCTA</td>\n",
       "      <td>-</td>\n",
       "      <td>A</td>\n",
       "      <td>0</td>\n",
       "    </tr>\n",
       "  </tbody>\n",
       "</table>\n",
       "</div>"
      ],
      "text/plain": [
       "  remainder(s1) remainder(s2) s1_part s2_part  score(s1_part,s2_part)\n",
       "0           CGT          GCTA       G       A                       0\n",
       "1           CGT         AGCTA       G       -                       0\n",
       "2          GCGT          GCTA       -       A                       0"
      ]
     },
     "execution_count": 14,
     "metadata": {},
     "output_type": "execute_result"
    }
   ],
   "source": [
    "s1 = \"GCGT\"\n",
    "s2 = \"AGCTA\"\n",
    "choices_df = pd.DataFrame({\"remainder(s1)\":[s1[1:],s1[1:],s1],\n",
    "              \"remainder(s2)\":[s2[1:],s2,s2[1:]],\n",
    "              \"s1_part\":[s1[0],s1[0],\"-\"],\n",
    "              \"s2_part\":[s2[0],\"-\",s2[0]],\n",
    "              \"score(s1_part,s2_part)\":[int(s1[0]==s2[0]),0,0]})\n",
    "choices_df"
   ]
  },
  {
   "cell_type": "markdown",
   "metadata": {
    "slideshow": {
     "slide_type": "subslide"
    }
   },
   "source": [
    "Now we can write our recurrance relationship for our specific example:\n",
    "\n",
    "$$\n",
    "align(\\mbox{ACGT},\\mbox{AGCTA}) = max\n",
    "\\left\\{\n",
    "    \\begin{array}{lll}\n",
    "      \\mbox{align}(\\mbox{CGT},\\mbox{GCTA}) & + & \\mbox{score}(\\mbox{A},\\mbox{A})\\\\\n",
    "      \\mbox{align}(\\mbox{CGT},\\mbox{AGCTA}) & + & \\mbox{score}(\\mbox{A},\\mbox{-})\\\\\n",
    "      \\mbox{align}(\\mbox{ACGT},\\mbox{GCTA}) & + & \\mbox{score}(\\mbox{-},\\mbox{A})\n",
    "    \\end{array}\n",
    "  \\right\\}\n",
    "$$\n",
    "General case:\n",
    "$$\n",
    "align(\\mbox{s1},\\mbox{s2}) = max\n",
    "\\left\\{\n",
    "    \\begin{array}{lll}\n",
    "      \\mbox{align}(\\mbox{s1[1:]},\\mbox{s2[1:]}) & + & \\mbox{score}(\\mbox{s1[0]},\\mbox{s2[0]})\\\\\n",
    "      \\mbox{align}(\\mbox{s1[1:]},\\mbox{s2}) & + & \\mbox{score}(\\mbox{s1[0]},\\mbox{-})\\\\\n",
    "      \\mbox{align}(\\mbox{s1},\\mbox{s2[1:]}) & + & \\mbox{score}(\\mbox{-},\\mbox{s2[0]})\n",
    "    \\end{array}\n",
    "  \\right\\}\n",
    "$$"
   ]
  },
  {
   "cell_type": "markdown",
   "metadata": {
    "slideshow": {
     "slide_type": "subslide"
    }
   },
   "source": [
    "**Exercise 5** Solve the longest common subsequence problem using the above recurrence relation\n",
    "\n",
    "Input: Two strings\n",
    "\n",
    "Output: A longest common subsequence of these strings represented as a tuple of a (score, aligned string 1, and aligned string 2).\n",
    "\n",
    "Suggestion: If you are struggling with the recursive solution, then proceed to the dynamic programming one and come back to this."
   ]
  },
  {
   "cell_type": "code",
   "execution_count": 41,
   "metadata": {
    "slideshow": {
     "slide_type": "fragment"
    }
   },
   "outputs": [
    {
     "output_type": "stream",
     "name": "stdout",
     "text": "4\nAAC-CT-\nA-CACTG\n"
    }
   ],
   "source": [
    "def align(s1,s2):\n",
    "    # Below are the exact base cases that I want you to use\n",
    "    if len(s1) == 0:\n",
    "        aligned_s1 = \"\".join([\"-\" for i in range(len(s2))])\n",
    "        return 0,aligned_s1,s2\n",
    "    if len(s2) == 0: # no way to match\n",
    "        aligned_s2 = \"\".join([\"-\" for i in range(len(s1))])\n",
    "        return 0,s1,aligned_s2\n",
    "    \n",
    "    # You don't have to use my dataframe that helps with the choices, but ... I recommend it\n",
    "    choices_df = pd.DataFrame({\n",
    "        \"remainder(s1)\":[s1[1:],s1[1:],s1],\n",
    "        \"remainder(s2)\":[s2[1:],s2,s2[1:]],\n",
    "        \"s1_part\":[s1[0],s1[0],\"-\"],\n",
    "        \"s2_part\":[s2[0],\"-\",s2[0]],\n",
    "        \"score(s1_part,s2_part)\":[int(s1[0]==s2[0]),0,0]})\n",
    "    max_score = -np.Inf\n",
    "    aligned_s1 = None\n",
    "    aligned_s2 = None\n",
    "    for i,choice in choices_df.iterrows():\n",
    "        # here is how to get these values into base Python\n",
    "        rem_s1,rem_s2,s1_part,s2_part,score = choice.values\n",
    "        poss_score,poss_aligned_s1,poss_aligned_s2 = align(rem_s1,rem_s2)\n",
    "        if poss_score + score > max_score:\n",
    "            aligned_s1 = s1_part + poss_aligned_s1\n",
    "            aligned_s2 = s2_part + poss_aligned_s2\n",
    "            max_score = poss_score + score\n",
    "    return max_score,aligned_s1,aligned_s2\n",
    "\n",
    "\n",
    "score, aligned_s1, aligned_s2 = align(\"AACCT\",\"ACACTG\")\n",
    "print(score)\n",
    "print(aligned_s1)\n",
    "print(aligned_s2)"
   ]
  },
  {
   "cell_type": "markdown",
   "metadata": {
    "slideshow": {
     "slide_type": "subslide"
    }
   },
   "source": [
    "## What about a dynamic programming solution to the algorithm above?\n",
    "We can think about this the same way. We need a bottom-up approach for sequence alignment. What we need to understand the best is a good way to represent a partial solution. Consider the following matrix and what each cell might represent? What value would we like to know?"
   ]
  },
  {
   "cell_type": "code",
   "execution_count": 16,
   "metadata": {
    "slideshow": {
     "slide_type": "fragment"
    }
   },
   "outputs": [
    {
     "data": {
      "text/html": [
       "<div>\n",
       "<style scoped>\n",
       "    .dataframe tbody tr th:only-of-type {\n",
       "        vertical-align: middle;\n",
       "    }\n",
       "\n",
       "    .dataframe tbody tr th {\n",
       "        vertical-align: top;\n",
       "    }\n",
       "\n",
       "    .dataframe thead th {\n",
       "        text-align: right;\n",
       "    }\n",
       "</style>\n",
       "<table border=\"1\" class=\"dataframe\">\n",
       "  <thead>\n",
       "    <tr style=\"text-align: right;\">\n",
       "      <th></th>\n",
       "      <th>-</th>\n",
       "      <th>A</th>\n",
       "      <th>AC</th>\n",
       "      <th>ACA</th>\n",
       "      <th>ACAC</th>\n",
       "      <th>ACACT</th>\n",
       "      <th>ACACTG</th>\n",
       "    </tr>\n",
       "  </thead>\n",
       "  <tbody>\n",
       "    <tr>\n",
       "      <td>-</td>\n",
       "      <td>NaN</td>\n",
       "      <td>NaN</td>\n",
       "      <td>NaN</td>\n",
       "      <td>NaN</td>\n",
       "      <td>NaN</td>\n",
       "      <td>NaN</td>\n",
       "      <td>NaN</td>\n",
       "    </tr>\n",
       "    <tr>\n",
       "      <td>A</td>\n",
       "      <td>NaN</td>\n",
       "      <td>NaN</td>\n",
       "      <td>NaN</td>\n",
       "      <td>NaN</td>\n",
       "      <td>NaN</td>\n",
       "      <td>NaN</td>\n",
       "      <td>NaN</td>\n",
       "    </tr>\n",
       "    <tr>\n",
       "      <td>AA</td>\n",
       "      <td>NaN</td>\n",
       "      <td>NaN</td>\n",
       "      <td>NaN</td>\n",
       "      <td>NaN</td>\n",
       "      <td>NaN</td>\n",
       "      <td>NaN</td>\n",
       "      <td>NaN</td>\n",
       "    </tr>\n",
       "    <tr>\n",
       "      <td>AAC</td>\n",
       "      <td>NaN</td>\n",
       "      <td>NaN</td>\n",
       "      <td>NaN</td>\n",
       "      <td>NaN</td>\n",
       "      <td>NaN</td>\n",
       "      <td>NaN</td>\n",
       "      <td>NaN</td>\n",
       "    </tr>\n",
       "    <tr>\n",
       "      <td>AACC</td>\n",
       "      <td>NaN</td>\n",
       "      <td>NaN</td>\n",
       "      <td>NaN</td>\n",
       "      <td>NaN</td>\n",
       "      <td>NaN</td>\n",
       "      <td>NaN</td>\n",
       "      <td>NaN</td>\n",
       "    </tr>\n",
       "    <tr>\n",
       "      <td>AACCT</td>\n",
       "      <td>NaN</td>\n",
       "      <td>NaN</td>\n",
       "      <td>NaN</td>\n",
       "      <td>NaN</td>\n",
       "      <td>NaN</td>\n",
       "      <td>NaN</td>\n",
       "      <td>NaN</td>\n",
       "    </tr>\n",
       "  </tbody>\n",
       "</table>\n",
       "</div>"
      ],
      "text/plain": [
       "         -    A   AC  ACA ACAC ACACT ACACTG\n",
       "-      NaN  NaN  NaN  NaN  NaN   NaN    NaN\n",
       "A      NaN  NaN  NaN  NaN  NaN   NaN    NaN\n",
       "AA     NaN  NaN  NaN  NaN  NaN   NaN    NaN\n",
       "AAC    NaN  NaN  NaN  NaN  NaN   NaN    NaN\n",
       "AACC   NaN  NaN  NaN  NaN  NaN   NaN    NaN\n",
       "AACCT  NaN  NaN  NaN  NaN  NaN   NaN    NaN"
      ]
     },
     "execution_count": 16,
     "metadata": {},
     "output_type": "execute_result"
    }
   ],
   "source": [
    "s1,s2=\"AACCT\",\"ACACTG\"\n",
    "scores = pd.DataFrame(index=[\"-\"]+[s1[:i+1] for i in range(len(s1))],columns=[\"-\"]+[s2[:i+1] for i in range(len(s2))])\n",
    "scores"
   ]
  },
  {
   "cell_type": "markdown",
   "metadata": {
    "slideshow": {
     "slide_type": "subslide"
    }
   },
   "source": [
    "Let's now fill in some values that are obvious to us."
   ]
  },
  {
   "cell_type": "code",
   "execution_count": 17,
   "metadata": {
    "slideshow": {
     "slide_type": "fragment"
    }
   },
   "outputs": [
    {
     "data": {
      "text/html": [
       "<div>\n",
       "<style scoped>\n",
       "    .dataframe tbody tr th:only-of-type {\n",
       "        vertical-align: middle;\n",
       "    }\n",
       "\n",
       "    .dataframe tbody tr th {\n",
       "        vertical-align: top;\n",
       "    }\n",
       "\n",
       "    .dataframe thead th {\n",
       "        text-align: right;\n",
       "    }\n",
       "</style>\n",
       "<table border=\"1\" class=\"dataframe\">\n",
       "  <thead>\n",
       "    <tr style=\"text-align: right;\">\n",
       "      <th></th>\n",
       "      <th>-</th>\n",
       "      <th>A</th>\n",
       "      <th>AC</th>\n",
       "      <th>ACA</th>\n",
       "      <th>ACAC</th>\n",
       "      <th>ACACT</th>\n",
       "      <th>ACACTG</th>\n",
       "    </tr>\n",
       "  </thead>\n",
       "  <tbody>\n",
       "    <tr>\n",
       "      <td>-</td>\n",
       "      <td>0</td>\n",
       "      <td>0</td>\n",
       "      <td>0</td>\n",
       "      <td>0</td>\n",
       "      <td>0</td>\n",
       "      <td>0</td>\n",
       "      <td>0</td>\n",
       "    </tr>\n",
       "    <tr>\n",
       "      <td>A</td>\n",
       "      <td>0</td>\n",
       "      <td>NaN</td>\n",
       "      <td>NaN</td>\n",
       "      <td>NaN</td>\n",
       "      <td>NaN</td>\n",
       "      <td>NaN</td>\n",
       "      <td>NaN</td>\n",
       "    </tr>\n",
       "    <tr>\n",
       "      <td>AA</td>\n",
       "      <td>0</td>\n",
       "      <td>NaN</td>\n",
       "      <td>NaN</td>\n",
       "      <td>NaN</td>\n",
       "      <td>NaN</td>\n",
       "      <td>NaN</td>\n",
       "      <td>NaN</td>\n",
       "    </tr>\n",
       "    <tr>\n",
       "      <td>AAC</td>\n",
       "      <td>0</td>\n",
       "      <td>NaN</td>\n",
       "      <td>NaN</td>\n",
       "      <td>NaN</td>\n",
       "      <td>NaN</td>\n",
       "      <td>NaN</td>\n",
       "      <td>NaN</td>\n",
       "    </tr>\n",
       "    <tr>\n",
       "      <td>AACC</td>\n",
       "      <td>0</td>\n",
       "      <td>NaN</td>\n",
       "      <td>NaN</td>\n",
       "      <td>NaN</td>\n",
       "      <td>NaN</td>\n",
       "      <td>NaN</td>\n",
       "      <td>NaN</td>\n",
       "    </tr>\n",
       "    <tr>\n",
       "      <td>AACCT</td>\n",
       "      <td>0</td>\n",
       "      <td>NaN</td>\n",
       "      <td>NaN</td>\n",
       "      <td>NaN</td>\n",
       "      <td>NaN</td>\n",
       "      <td>NaN</td>\n",
       "      <td>NaN</td>\n",
       "    </tr>\n",
       "  </tbody>\n",
       "</table>\n",
       "</div>"
      ],
      "text/plain": [
       "       -    A   AC  ACA ACAC ACACT ACACTG\n",
       "-      0    0    0    0    0     0      0\n",
       "A      0  NaN  NaN  NaN  NaN   NaN    NaN\n",
       "AA     0  NaN  NaN  NaN  NaN   NaN    NaN\n",
       "AAC    0  NaN  NaN  NaN  NaN   NaN    NaN\n",
       "AACC   0  NaN  NaN  NaN  NaN   NaN    NaN\n",
       "AACCT  0  NaN  NaN  NaN  NaN   NaN    NaN"
      ]
     },
     "execution_count": 17,
     "metadata": {},
     "output_type": "execute_result"
    }
   ],
   "source": [
    "scores.loc[\"-\",\"-\"] = 0\n",
    "scores.loc[\"-\",\"A\"] = 0\n",
    "scores.loc[\"-\",\"AC\"] = 0\n",
    "# and so on... so let's do it automatically\n",
    "for s2_part in scores.columns:\n",
    "    scores.loc[\"-\",s2_part] = 0\n",
    "for s1_part in scores.index:\n",
    "    scores.loc[s1_part,\"-\"] = 0\n",
    "scores"
   ]
  },
  {
   "cell_type": "markdown",
   "metadata": {
    "slideshow": {
     "slide_type": "subslide"
    }
   },
   "source": [
    "Now how would you fill in scores.loc[\"A\",\"A\"]? Well... There are three options like always. These correspond to the three choices we always. We can match A to A which would obviously be good in this example. We could match the A in s1 to a gap '-' in s2. We could match A in s2 to a gap in s1. And those are our only options. If we fill out this table in a manner that moves from left to right and top to bottom, then we can figure out the max score without any issues."
   ]
  },
  {
   "cell_type": "markdown",
   "metadata": {
    "slideshow": {
     "slide_type": "subslide"
    }
   },
   "source": [
    "**Exercise 6** Solve the longest common subsequence problem using dynamic programming.\n",
    "\n",
    "Input: Two strings\n",
    "\n",
    "Output: The length of the longest common subsequence of these strings."
   ]
  },
  {
   "cell_type": "code",
   "execution_count": 43,
   "metadata": {
    "slideshow": {
     "slide_type": "subslide"
    }
   },
   "outputs": [
    {
     "output_type": "execute_result",
     "data": {
      "text/plain": "4"
     },
     "metadata": {},
     "execution_count": 43
    }
   ],
   "source": [
    "def align_dynamic(s1,s2):\n",
    "    scores = pd.DataFrame(index=[\"-\"]+[s1[:i+1] for i in range(len(s1))],columns=[\"-\"]+[s2[:i+1] for i in range(len(s2))])\n",
    "    for s2_part in scores.columns:\n",
    "        scores.loc[\"-\",s2_part] = 0\n",
    "    for s1_part in scores.index:\n",
    "        scores.loc[s1_part,\"-\"] = 0\n",
    "    \n",
    "    nrows,ncols = scores.shape\n",
    "    for i in range(1,nrows):\n",
    "        for j in range(1,ncols):\n",
    "            curr_s1 = scores.index[i]\n",
    "            curr_s2 = scores.columns[j]\n",
    "            # What are our three options\n",
    "            opt1_s1 = scores.index[i-1] # remember the rows are representative of s1\n",
    "            opt1_s2 = scores.columns[j-1] # remember the columns are representative of s2\n",
    "            score_opt1 = scores.loc[opt1_s1,opt1_s2] + 1 if curr_s1[-1] == curr_s2[-1] else scores.loc[opt1_s1,opt1_s2]\n",
    "            \n",
    "            opt2_s1 = scores.index[i-1]\n",
    "            opt2_s2 = scores.columns[j]\n",
    "            score_opt2 = scores.loc[opt2_s1,opt2_s2]\n",
    "            \n",
    "            opt3_s1 = scores.index[i]\n",
    "            opt3_s2 = scores.columns[j-1]\n",
    "            score_opt3 = scores.loc[opt3_s1,opt3_s2]\n",
    "            \n",
    "            scores.loc[scores.index[i],scores.columns[j]] = max(score_opt1,score_opt2,score_opt3)\n",
    "            \n",
    "    return scores.loc[s1,s2]\n",
    "\n",
    "\n",
    "score = align_dynamic(\"AACCT\",\"ACACTG\")\n",
    "score"
   ]
  },
  {
   "cell_type": "markdown",
   "metadata": {
    "slideshow": {
     "slide_type": "subslide"
    }
   },
   "source": [
    "We did it! Sort of... We don't know the alignment. Only the score. We need to add this history to our algorithm.\n",
    "\n",
    "**Exercise 7** Solve the longest common subsequence problem using dynamic programming.\n",
    "\n",
    "Input: Two strings\n",
    "\n",
    "Output: A longest common subsequence of these strings represented as a tuple of a (score, aligned string 1, and aligned string 2)."
   ]
  },
  {
   "cell_type": "code",
   "execution_count": 61,
   "metadata": {
    "slideshow": {
     "slide_type": "subslide"
    }
   },
   "outputs": [
    {
     "output_type": "display_data",
     "data": {
      "text/plain": "                    -       A        AC         ACA          ACAC  \\\n-                (, )  (-, A)  (--, AC)  (---, ACA)  (----, ACAC)   \nA              (A, -)     NaN       NaN         NaN           NaN   \nAA           (AA, --)     NaN       NaN         NaN           NaN   \nAAC        (AAC, ---)     NaN       NaN         NaN           NaN   \nAACC     (AACC, ----)     NaN       NaN         NaN           NaN   \nAACCT  (AACCT, -----)     NaN       NaN         NaN           NaN   \n\n                ACACT            ACACTG  \n-      (-----, ACACT)  (------, ACACTG)  \nA                 NaN               NaN  \nAA                NaN               NaN  \nAAC               NaN               NaN  \nAACC              NaN               NaN  \nAACCT             NaN               NaN  ",
      "text/html": "<div>\n<style scoped>\n    .dataframe tbody tr th:only-of-type {\n        vertical-align: middle;\n    }\n\n    .dataframe tbody tr th {\n        vertical-align: top;\n    }\n\n    .dataframe thead th {\n        text-align: right;\n    }\n</style>\n<table border=\"1\" class=\"dataframe\">\n  <thead>\n    <tr style=\"text-align: right;\">\n      <th></th>\n      <th>-</th>\n      <th>A</th>\n      <th>AC</th>\n      <th>ACA</th>\n      <th>ACAC</th>\n      <th>ACACT</th>\n      <th>ACACTG</th>\n    </tr>\n  </thead>\n  <tbody>\n    <tr>\n      <th>-</th>\n      <td>(, )</td>\n      <td>(-, A)</td>\n      <td>(--, AC)</td>\n      <td>(---, ACA)</td>\n      <td>(----, ACAC)</td>\n      <td>(-----, ACACT)</td>\n      <td>(------, ACACTG)</td>\n    </tr>\n    <tr>\n      <th>A</th>\n      <td>(A, -)</td>\n      <td>NaN</td>\n      <td>NaN</td>\n      <td>NaN</td>\n      <td>NaN</td>\n      <td>NaN</td>\n      <td>NaN</td>\n    </tr>\n    <tr>\n      <th>AA</th>\n      <td>(AA, --)</td>\n      <td>NaN</td>\n      <td>NaN</td>\n      <td>NaN</td>\n      <td>NaN</td>\n      <td>NaN</td>\n      <td>NaN</td>\n    </tr>\n    <tr>\n      <th>AAC</th>\n      <td>(AAC, ---)</td>\n      <td>NaN</td>\n      <td>NaN</td>\n      <td>NaN</td>\n      <td>NaN</td>\n      <td>NaN</td>\n      <td>NaN</td>\n    </tr>\n    <tr>\n      <th>AACC</th>\n      <td>(AACC, ----)</td>\n      <td>NaN</td>\n      <td>NaN</td>\n      <td>NaN</td>\n      <td>NaN</td>\n      <td>NaN</td>\n      <td>NaN</td>\n    </tr>\n    <tr>\n      <th>AACCT</th>\n      <td>(AACCT, -----)</td>\n      <td>NaN</td>\n      <td>NaN</td>\n      <td>NaN</td>\n      <td>NaN</td>\n      <td>NaN</td>\n      <td>NaN</td>\n    </tr>\n  </tbody>\n</table>\n</div>"
     },
     "metadata": {}
    },
    {
     "output_type": "display_data",
     "data": {
      "text/plain": "       -  A AC ACA ACAC ACACT ACACTG\n-      0  0  0   0    0     0      0\nA      0  1  1   1    1     1      1\nAA     0  1  1   2    2     2      2\nAAC    0  1  2   2    3     3      3\nAACC   0  1  2   2    3     3      3\nAACCT  0  1  2   2    3     4      4",
      "text/html": "<div>\n<style scoped>\n    .dataframe tbody tr th:only-of-type {\n        vertical-align: middle;\n    }\n\n    .dataframe tbody tr th {\n        vertical-align: top;\n    }\n\n    .dataframe thead th {\n        text-align: right;\n    }\n</style>\n<table border=\"1\" class=\"dataframe\">\n  <thead>\n    <tr style=\"text-align: right;\">\n      <th></th>\n      <th>-</th>\n      <th>A</th>\n      <th>AC</th>\n      <th>ACA</th>\n      <th>ACAC</th>\n      <th>ACACT</th>\n      <th>ACACTG</th>\n    </tr>\n  </thead>\n  <tbody>\n    <tr>\n      <th>-</th>\n      <td>0</td>\n      <td>0</td>\n      <td>0</td>\n      <td>0</td>\n      <td>0</td>\n      <td>0</td>\n      <td>0</td>\n    </tr>\n    <tr>\n      <th>A</th>\n      <td>0</td>\n      <td>1</td>\n      <td>1</td>\n      <td>1</td>\n      <td>1</td>\n      <td>1</td>\n      <td>1</td>\n    </tr>\n    <tr>\n      <th>AA</th>\n      <td>0</td>\n      <td>1</td>\n      <td>1</td>\n      <td>2</td>\n      <td>2</td>\n      <td>2</td>\n      <td>2</td>\n    </tr>\n    <tr>\n      <th>AAC</th>\n      <td>0</td>\n      <td>1</td>\n      <td>2</td>\n      <td>2</td>\n      <td>3</td>\n      <td>3</td>\n      <td>3</td>\n    </tr>\n    <tr>\n      <th>AACC</th>\n      <td>0</td>\n      <td>1</td>\n      <td>2</td>\n      <td>2</td>\n      <td>3</td>\n      <td>3</td>\n      <td>3</td>\n    </tr>\n    <tr>\n      <th>AACCT</th>\n      <td>0</td>\n      <td>1</td>\n      <td>2</td>\n      <td>2</td>\n      <td>3</td>\n      <td>4</td>\n      <td>4</td>\n    </tr>\n  </tbody>\n</table>\n</div>"
     },
     "metadata": {}
    },
    {
     "output_type": "display_data",
     "data": {
      "text/plain": "                    -               A              AC             ACA  \\\n-                (, )          (-, A)        (--, AC)      (---, ACA)   \nA              (A, -)          (A, A)        (A-, AC)      (--A, ACA)   \nAA           (AA, --)        (AA, -A)        (AA, AC)      (A-A, ACA)   \nAAC        (AAC, ---)      (AAC, -A-)      (AAC, -AC)    (A-AC, ACA-)   \nAACC     (AACC, ----)    (AACC, -A--)    (AACC, -A-C)    (AACC, -ACA)   \nAACCT  (AACCT, -----)  (AACCT, -A---)  (AACCT, -A-C-)  (AACCT, -A-CA)   \n\n                   ACAC             ACACT              ACACTG  \n-          (----, ACAC)    (-----, ACACT)    (------, ACACTG)  \nA          (ACA-, --AC)    (--AC-, ACA-T)    (ACA-T-, --AC-G)  \nAA         (ACA-, A-AC)    (A-AC-, ACA-T)    (ACA-T-, A-AC-G)  \nAAC        (A-AC, ACAC)    (ACAC-, A-ACT)    (A-ACT-, ACAC-G)  \nAACC     (A-ACC, ACA-C)    (A-ACC, ACACT)    (ACAC-C, A-ACTG)  \nAACCT  (A-ACCT, ACA-C-)  (A-ACCT, ACA-CT)  (ACA-CT-, A-ACCTG)  ",
      "text/html": "<div>\n<style scoped>\n    .dataframe tbody tr th:only-of-type {\n        vertical-align: middle;\n    }\n\n    .dataframe tbody tr th {\n        vertical-align: top;\n    }\n\n    .dataframe thead th {\n        text-align: right;\n    }\n</style>\n<table border=\"1\" class=\"dataframe\">\n  <thead>\n    <tr style=\"text-align: right;\">\n      <th></th>\n      <th>-</th>\n      <th>A</th>\n      <th>AC</th>\n      <th>ACA</th>\n      <th>ACAC</th>\n      <th>ACACT</th>\n      <th>ACACTG</th>\n    </tr>\n  </thead>\n  <tbody>\n    <tr>\n      <th>-</th>\n      <td>(, )</td>\n      <td>(-, A)</td>\n      <td>(--, AC)</td>\n      <td>(---, ACA)</td>\n      <td>(----, ACAC)</td>\n      <td>(-----, ACACT)</td>\n      <td>(------, ACACTG)</td>\n    </tr>\n    <tr>\n      <th>A</th>\n      <td>(A, -)</td>\n      <td>(A, A)</td>\n      <td>(A-, AC)</td>\n      <td>(--A, ACA)</td>\n      <td>(ACA-, --AC)</td>\n      <td>(--AC-, ACA-T)</td>\n      <td>(ACA-T-, --AC-G)</td>\n    </tr>\n    <tr>\n      <th>AA</th>\n      <td>(AA, --)</td>\n      <td>(AA, -A)</td>\n      <td>(AA, AC)</td>\n      <td>(A-A, ACA)</td>\n      <td>(ACA-, A-AC)</td>\n      <td>(A-AC-, ACA-T)</td>\n      <td>(ACA-T-, A-AC-G)</td>\n    </tr>\n    <tr>\n      <th>AAC</th>\n      <td>(AAC, ---)</td>\n      <td>(AAC, -A-)</td>\n      <td>(AAC, -AC)</td>\n      <td>(A-AC, ACA-)</td>\n      <td>(A-AC, ACAC)</td>\n      <td>(ACAC-, A-ACT)</td>\n      <td>(A-ACT-, ACAC-G)</td>\n    </tr>\n    <tr>\n      <th>AACC</th>\n      <td>(AACC, ----)</td>\n      <td>(AACC, -A--)</td>\n      <td>(AACC, -A-C)</td>\n      <td>(AACC, -ACA)</td>\n      <td>(A-ACC, ACA-C)</td>\n      <td>(A-ACC, ACACT)</td>\n      <td>(ACAC-C, A-ACTG)</td>\n    </tr>\n    <tr>\n      <th>AACCT</th>\n      <td>(AACCT, -----)</td>\n      <td>(AACCT, -A---)</td>\n      <td>(AACCT, -A-C-)</td>\n      <td>(AACCT, -A-CA)</td>\n      <td>(A-ACCT, ACA-C-)</td>\n      <td>(A-ACCT, ACA-CT)</td>\n      <td>(ACA-CT-, A-ACCTG)</td>\n    </tr>\n  </tbody>\n</table>\n</div>"
     },
     "metadata": {}
    },
    {
     "output_type": "stream",
     "name": "stdout",
     "text": "4\nACA-CT-\nA-ACCTG\n"
    }
   ],
   "source": [
    "def align_dynamic2(s1,s2,verbose=False):\n",
    "    scores = pd.DataFrame(index=[\"-\"]+[s1[:i+1] for i in range(len(s1))],columns=[\"-\"]+[s2[:i+1] for i in range(len(s2))])\n",
    "    aligned = pd.DataFrame(index=[\"-\"]+[s1[:i+1] for i in range(len(s1))],columns=[\"-\"]+[s2[:i+1] for i in range(len(s2))])\n",
    "    for s2_part in scores.columns:\n",
    "        scores.loc[\"-\",s2_part] = 0\n",
    "        if s2_part == \"-\":\n",
    "            aligned.loc[\"-\",\"-\"] = (\"\",\"\")\n",
    "        else:\n",
    "            aligned.loc[\"-\",s2_part] = (\"\".join([\"-\" for i in range(len(s2_part))]),s2_part)\n",
    "    for s1_part in scores.index:\n",
    "        scores.loc[s1_part,\"-\"] = 0\n",
    "        if s1_part == \"-\":\n",
    "            aligned.loc[\"-\",\"-\"] = (\"\",\"\")\n",
    "        else:\n",
    "            aligned.loc[s1_part,\"-\"] = (s1_part,\"\".join([\"-\" for i in range(len(s1_part))]))\n",
    "    if verbose:\n",
    "        display(aligned)\n",
    "    \n",
    "    nrows,ncols = scores.shape\n",
    "    for i in range(1,nrows):\n",
    "        for j in range(1,ncols):\n",
    "            curr_s1 = scores.index[i]\n",
    "            curr_s2 = scores.columns[j]\n",
    "\n",
    "            # What are our three options\n",
    "            opt1_s1 = scores.index[i-1] # remember the rows are representative of s1\n",
    "            opt1_s2 = scores.columns[j-1] # remember the columns are representative of s2\n",
    "            score_opt1 = scores.loc[opt1_s1,opt1_s2] + 1 if curr_s1[-1] == curr_s2[-1] else scores.loc[opt1_s1,opt1_s2]\n",
    "            s1_aligned_opt1 = aligned.loc[opt1_s1,opt1_s2][0] + curr_s1[-1]\n",
    "            s2_aligned_opt1 = aligned.loc[opt1_s1,opt1_s2][1] + curr_s2[-1] if curr_s1[-1] == curr_s2[-1]\n",
    "            s1_aligned_opt1 += \n",
    "            \n",
    "            opt2_s1 = scores.index[i-1]\n",
    "            opt2_s2 = scores.columns[j]\n",
    "            score_opt2 = scores.loc[opt2_s1,opt2_s2]\n",
    "            s1_aligned_opt2 = aligned.loc[opt2_s1,opt2_s2][0] + curr_s1[-1]\n",
    "            s2_aligned_opt2 = aligned.loc[opt2_s1,opt2_s2][1] + '-'\n",
    "            \n",
    "            opt3_s1 = scores.index[i]\n",
    "            opt3_s2 = scores.columns[j-1]\n",
    "            score_opt3 = scores.loc[opt3_s1,opt3_s2]\n",
    "            s1_aligned_opt3 = aligned.loc[opt3_s1,opt3_s2][1] + '-'\n",
    "            s2_aligned_opt3 = aligned.loc[opt3_s1,opt3_s2][0] + curr_s2[-1]\n",
    "            \n",
    "            scores.loc[scores.index[i],scores.columns[j]] = max(score_opt1,score_opt2,score_opt3)\n",
    "            if max(score_opt1,score_opt2,score_opt3) == score_opt1:\n",
    "                aligned.loc[scores.index[i],scores.columns[j]] = (s1_aligned_opt1,s2_aligned_opt1)\n",
    "            elif max(score_opt1,score_opt2,score_opt3) == score_opt2:\n",
    "                aligned.loc[scores.index[i],scores.columns[j]] = (s1_aligned_opt2,s2_aligned_opt2)\n",
    "            else:\n",
    "                aligned.loc[scores.index[i],scores.columns[j]] = (s1_aligned_opt3,s2_aligned_opt3)\n",
    "    if verbose:\n",
    "        display(scores)\n",
    "        display(aligned)\n",
    "    return scores.loc[s1,s2],aligned.loc[s1,s2][0],aligned.loc[s1,s2][1]\n",
    "\n",
    "\n",
    "score,s1_aligned,s2_aligned = align_dynamic2(\"AACCT\",\"ACACTG\",True)\n",
    "print(score)\n",
    "print(s1_aligned)\n",
    "print(s2_aligned)"
   ]
  },
  {
   "cell_type": "markdown",
   "metadata": {
    "slideshow": {
     "slide_type": "subslide"
    }
   },
   "source": [
    "<img src=\"https://lh3.googleusercontent.com/proxy/L4RUPP8llSmX4BQTP1AuS67ZhJb2tehi3ufPAYXb3-buRAgkSuXlkwrV9Lc8-fzJbaqjmv0MpItcgho\" width=500>"
   ]
  },
  {
   "cell_type": "markdown",
   "metadata": {
    "slideshow": {
     "slide_type": "subslide"
    }
   },
   "source": [
    "<img src=\"https://upload.wikimedia.org/wikipedia/commons/thumb/0/02/BLOSUM62.png/400px-BLOSUM62.png\" width=800>"
   ]
  },
  {
   "cell_type": "code",
   "execution_count": 20,
   "metadata": {
    "slideshow": {
     "slide_type": "skip"
    }
   },
   "outputs": [
    {
     "data": {
      "text/plain": [
       "['../tests/answers_Lab4.joblib']"
      ]
     },
     "execution_count": 20,
     "metadata": {},
     "output_type": "execute_result"
    }
   ],
   "source": [
    "# Don't forget to push!"
   ]
  }
 ],
 "metadata": {
  "celltoolbar": "Slideshow",
  "jupytext": {
   "formats": "ipynb,md,py"
  },
  "kernelspec": {
   "display_name": "Python 3",
   "language": "python",
   "name": "python3"
  },
  "language_info": {
   "codemirror_mode": {
    "name": "ipython",
    "version": 3
   },
   "file_extension": ".py",
   "mimetype": "text/x-python",
   "name": "python",
   "nbconvert_exporter": "python",
   "pygments_lexer": "ipython3",
   "version": "3.8.2-final"
  }
 },
 "nbformat": 4,
 "nbformat_minor": 4
}