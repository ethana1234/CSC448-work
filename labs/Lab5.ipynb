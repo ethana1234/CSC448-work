{
 "cells": [
  {
   "cell_type": "markdown",
   "metadata": {
    "slideshow": {
     "slide_type": "slide"
    }
   },
   "source": [
    "# Lab 5 - Why have biologists still not developed an HIV vaccine?\n",
    "## Hidden Markov Models\n",
    "Material and embedded lab.\n",
    "\n",
    "Motivation and some exercises are variations on those available in Bioinformatics Algorithms: An Active-Learning Approach by Phillip Compeau & Pavel Pevzner."
   ]
  },
  {
   "cell_type": "code",
   "execution_count": 122,
   "metadata": {
    "slideshow": {
     "slide_type": "skip"
    }
   },
   "outputs": [],
   "source": [
    "debug = False # Set this to False before pushing to be graded"
   ]
  },
  {
   "cell_type": "markdown",
   "metadata": {
    "slideshow": {
     "slide_type": "slide"
    }
   },
   "source": [
    "# Classifying the HIV Phenotype\n",
    "\n",
    "* Today there are over 35 million people living with the disease\n",
    "* 1984 - US Health and Human Services Secretary Margaret Heckler states we will have an HIV vaccine in two years\n",
    "* 1997 - Bill Clinton established a new research center with the goal of developing HIV vaccine\n",
    "* 2005 - Merck beins clinical trials of an HIV vaccine, but discontinued two years later because there is some evidence this actual *increased* the risk of infection\n",
    "* Antiretroviral therapy is available - a drug cocktail that stabilizes the symptoms"
   ]
  },
  {
   "cell_type": "markdown",
   "metadata": {
    "slideshow": {
     "slide_type": "subslide"
    }
   },
   "source": [
    "## Vaccines\n",
    "\n",
    "* Classical vaccines against viruses are made from surface proteins of the virus\n",
    "* HIV viral envelope proteins are extremely variable\n",
    "* HIV strains taken from different patients represent diverged subtypes and therefore a vaccine must be broad enough to account for this variability\n",
    "* HIV has just nine genes... I mean... come on... Why can't we do this? \n",
    "* One of my favorite thing to say is biology is complicated and this is one of the hardest things for a computer scientist who is used to 1's and 0's to internalize."
   ]
  },
  {
   "cell_type": "markdown",
   "metadata": {
    "slideshow": {
     "slide_type": "subslide"
    }
   },
   "source": [
    "## A biological problem becomes an algorithm problem\n",
    "* Multiple sequence alignments tell us a lot about a protein\n",
    "* HIV proteins are extreme cases where a change at a single position can affect the HIV phenotype (and thus the drug treatment)\n",
    "    * We would need a different scoring matrix across different locations in the sequence which is not part of our original formulation of the biological problem\n",
    "* Constructing a multiple sequence alignment from highly diverged sequences is difficult and especially difficult for our previous approaches\n",
    "* We need a new formulation and a new algorithm!"
   ]
  },
  {
   "cell_type": "markdown",
   "metadata": {
    "slideshow": {
     "slide_type": "slide"
    }
   },
   "source": [
    "## Gambling with Yakuza\n",
    "Enter a simple game of heads or tails. A fair coin would have:\n",
    "$$\n",
    "Pr_F(H)=1/2\n",
    "\\hspace{0.5in}\n",
    "Pr_F(T)=1/2\n",
    "$$\n",
    "A biased coin might have:\n",
    "$$\n",
    "Pr_F(H)=3/4\n",
    "\\hspace{0.5in}\n",
    "Pr_F(T)=1/4\n",
    "$$"
   ]
  },
  {
   "cell_type": "markdown",
   "metadata": {
    "slideshow": {
     "slide_type": "subslide"
    }
   },
   "source": [
    "**What is the probability that you will see a sequence that consists of 4 heads and 6 tails given that you know it's a fair coin?**"
   ]
  },
  {
   "cell_type": "markdown",
   "metadata": {
    "slideshow": {
     "slide_type": "fragment"
    }
   },
   "source": [
    "$$\n",
    "Pr(\\mbox{HHHHTTTTTT}|F)=(1/2)^4*(1/2)^6=(1/2)^{10}\n",
    "$$"
   ]
  },
  {
   "cell_type": "markdown",
   "metadata": {
    "slideshow": {
     "slide_type": "fragment"
    }
   },
   "source": [
    "**What is the probability that you will see a sequence that consists of 4 heads and 6 tails given that you know it's a biased coin?**"
   ]
  },
  {
   "cell_type": "markdown",
   "metadata": {
    "slideshow": {
     "slide_type": "fragment"
    }
   },
   "source": [
    "$$\n",
    "Pr(\\mbox{HHHHTTTTTT}|F)=(3/4)^4*(1/4)^6\n",
    "$$"
   ]
  },
  {
   "cell_type": "markdown",
   "metadata": {
    "slideshow": {
     "slide_type": "subslide"
    }
   },
   "source": [
    "Given a sequence of heads and tails $x=x_1x_2...x_n$ with $k$ occurances of heads:\n",
    "$$\n",
    "Pr(x|F)=(1/2)^n\n",
    "\\\\\n",
    "Pr(x|B)=(1/4)^{n-k}*(3/4)^k=3^k/4^n\n",
    "$$"
   ]
  },
  {
   "cell_type": "markdown",
   "metadata": {
    "slideshow": {
     "slide_type": "fragment"
    }
   },
   "source": [
    "Was the dealer using a fair or biased coin?\n",
    "$$\n",
    "Pr(x|F)>Pr(x|B)?\n",
    "$$"
   ]
  },
  {
   "cell_type": "markdown",
   "metadata": {
    "slideshow": {
     "slide_type": "subslide"
    }
   },
   "source": [
    "You can easily compute these probabilities, so let's assume the dealer switches back and forth between the fair and biased coins with $Pr(switch)=0.1$. They do this after each flip of the coin. Now how do you determine when the dealer flipped the coin, so you can maximize your winnings?"
   ]
  },
  {
   "cell_type": "markdown",
   "metadata": {
    "slideshow": {
     "slide_type": "fragment"
    }
   },
   "source": [
    "What about a sliding window? \n",
    "* What size sliding window?\n",
    "* Can you think of any other problems?"
   ]
  },
  {
   "cell_type": "markdown",
   "metadata": {
    "slideshow": {
     "slide_type": "slide"
    }
   },
   "source": [
    "## What does this have to do with biology? Consider finding CG-islands\n",
    "\n",
    "We've spoken before about how not all nucleotides occur at the same frequency in the genome. For example, the human genome's GC-content is approximately 42%. This would mean that the probability of CG occuring in the human genome would be $0.21*0.21=4.41\\%$\n",
    "\n",
    "But it's approximately $1\\%$!!! \n",
    "\n",
    "This is because methylation is the most common DNA modification that adds a methyl group to the cystosine nucleotide. The resulting methylated cytosine has a tendency to deaminate into thymine (i.e., mutate). This is bad... so this CG is the least common dinucleotide."
   ]
  },
  {
   "cell_type": "markdown",
   "metadata": {
    "slideshow": {
     "slide_type": "subslide"
    }
   },
   "source": [
    "## CG-islands\n",
    "Methylation is often suppresed around genes in areas called CG-islands where CG appears relatelively frequently\n",
    "\n",
    "A great biological quesiton is where are the CG-islands in the human genome?\n",
    "\n",
    "Well... the genome is a sequence of characters similar to a sequence of coin flip results. Within that sequence we don't know if we are in a CG-island or not in a CG-island. This IS our coin flip problem with more symbols."
   ]
  },
  {
   "cell_type": "markdown",
   "metadata": {
    "slideshow": {
     "slide_type": "subslide"
    }
   },
   "source": [
    "<img src=\"https://2.bp.blogspot.com/-Lgf7NJe-MkY/TeK1zpDQ97I/AAAAAAAAADA/egoF0eM_UvQ/s1600/fairbet.png\">"
   ]
  },
  {
   "cell_type": "markdown",
   "metadata": {
    "slideshow": {
     "slide_type": "subslide"
    }
   },
   "source": [
    "* $States$ - Hidden Markov Models have hidden states (e.g., $States=\\{F,B\\}$)\n",
    "* $\\pi$ - Path through the hidden states (e.g., $\\pi = FFFBBFB$)\n",
    "* $\\Sigma$ - Emission symbols\n",
    "* $Emission$ - emission probabilities (e.g., $Pr(H|F)=1/2$)\n",
    "* $Transitions$ - transition probabilities from one hidden state to another (e.g., $Pr(F|B)=0.1$)"
   ]
  },
  {
   "cell_type": "markdown",
   "metadata": {
    "slideshow": {
     "slide_type": "subslide"
    }
   },
   "source": [
    "**Exercise 1** Probability of a Hidden Path Problem\n",
    "\n",
    "Input: A hidden path $\\pi$ in an HMM ($\\Sigma$, $States$, $Transition$, $Emission$).\n",
    "\n",
    "Output: The probaiblity of the path, $Pr(\\pi)$."
   ]
  },
  {
   "cell_type": "code",
   "execution_count": 13,
   "metadata": {
    "slideshow": {
     "slide_type": "subslide"
    }
   },
   "outputs": [],
   "source": [
    "def prob_path(pi,hmm):\n",
    "    sigma,states,transition,emission=hmm\n",
    "    prob = 1/len(states) # probability from initial state pi_0 to pi_1 (assume uniform)\n",
    "    i_prev = pi[0]\n",
    "    for pi_i in pi[1:]:\n",
    "        prob *= transition.loc[pi_i,i_prev]\n",
    "        i_prev = pi_i\n",
    "    return prob"
   ]
  },
  {
   "cell_type": "code",
   "execution_count": 15,
   "metadata": {
    "slideshow": {
     "slide_type": "subslide"
    }
   },
   "outputs": [
    {
     "output_type": "execute_result",
     "data": {
      "text/plain": "2.1523360500000007e-06"
     },
     "metadata": {},
     "execution_count": 15
    }
   ],
   "source": [
    "import pandas as pd\n",
    "pi = \"FFFFBBBBFBFBBB\"\n",
    "sigma = [\"H\",\"T\"]\n",
    "states = [\"F\",\"B\"]\n",
    "transition = pd.DataFrame([[0.9,0.1],[0.1,0.9]],index=states,columns=states)\n",
    "emission = pd.DataFrame([[0.5,0.5],[0.75,0.25]],index=states,columns=sigma)\n",
    "coin_hmm = (sigma,states,transition,emission) # I'm just packing these together\n",
    "\n",
    "\n",
    "prob_path(pi,coin_hmm)"
   ]
  },
  {
   "cell_type": "markdown",
   "metadata": {
    "slideshow": {
     "slide_type": "subslide"
    }
   },
   "source": [
    "But what are the inputs?"
   ]
  },
  {
   "cell_type": "code",
   "execution_count": 26,
   "metadata": {
    "slideshow": {
     "slide_type": "fragment"
    }
   },
   "outputs": [
    {
     "data": {
      "text/html": [
       "<div>\n",
       "<style scoped>\n",
       "    .dataframe tbody tr th:only-of-type {\n",
       "        vertical-align: middle;\n",
       "    }\n",
       "\n",
       "    .dataframe tbody tr th {\n",
       "        vertical-align: top;\n",
       "    }\n",
       "\n",
       "    .dataframe thead th {\n",
       "        text-align: right;\n",
       "    }\n",
       "</style>\n",
       "<table border=\"1\" class=\"dataframe\">\n",
       "  <thead>\n",
       "    <tr style=\"text-align: right;\">\n",
       "      <th></th>\n",
       "      <th>F</th>\n",
       "      <th>B</th>\n",
       "    </tr>\n",
       "  </thead>\n",
       "  <tbody>\n",
       "    <tr>\n",
       "      <td>F</td>\n",
       "      <td>0.9</td>\n",
       "      <td>0.1</td>\n",
       "    </tr>\n",
       "    <tr>\n",
       "      <td>B</td>\n",
       "      <td>0.1</td>\n",
       "      <td>0.9</td>\n",
       "    </tr>\n",
       "  </tbody>\n",
       "</table>\n",
       "</div>"
      ],
      "text/plain": [
       "     F    B\n",
       "F  0.9  0.1\n",
       "B  0.1  0.9"
      ]
     },
     "execution_count": 26,
     "metadata": {},
     "output_type": "execute_result"
    }
   ],
   "source": [
    "transition"
   ]
  },
  {
   "cell_type": "code",
   "execution_count": 27,
   "metadata": {
    "slideshow": {
     "slide_type": "fragment"
    }
   },
   "outputs": [
    {
     "data": {
      "text/html": [
       "<div>\n",
       "<style scoped>\n",
       "    .dataframe tbody tr th:only-of-type {\n",
       "        vertical-align: middle;\n",
       "    }\n",
       "\n",
       "    .dataframe tbody tr th {\n",
       "        vertical-align: top;\n",
       "    }\n",
       "\n",
       "    .dataframe thead th {\n",
       "        text-align: right;\n",
       "    }\n",
       "</style>\n",
       "<table border=\"1\" class=\"dataframe\">\n",
       "  <thead>\n",
       "    <tr style=\"text-align: right;\">\n",
       "      <th></th>\n",
       "      <th>H</th>\n",
       "      <th>T</th>\n",
       "    </tr>\n",
       "  </thead>\n",
       "  <tbody>\n",
       "    <tr>\n",
       "      <td>F</td>\n",
       "      <td>0.50</td>\n",
       "      <td>0.50</td>\n",
       "    </tr>\n",
       "    <tr>\n",
       "      <td>B</td>\n",
       "      <td>0.75</td>\n",
       "      <td>0.25</td>\n",
       "    </tr>\n",
       "  </tbody>\n",
       "</table>\n",
       "</div>"
      ],
      "text/plain": [
       "      H     T\n",
       "F  0.50  0.50\n",
       "B  0.75  0.25"
      ]
     },
     "execution_count": 27,
     "metadata": {},
     "output_type": "execute_result"
    }
   ],
   "source": [
    "emission"
   ]
  },
  {
   "cell_type": "markdown",
   "metadata": {
    "slideshow": {
     "slide_type": "subslide"
    }
   },
   "source": [
    "## Pandas refresher\n",
    "While I love Pandas, I know that viewpoint isn't always shared. Let's answer the following question again:\n",
    "\n",
    "What if I hate Pandas so much that I want to stop using it? For the most part this is totally fine. If you get your code to work, I'm happy. To get a list:"
   ]
  },
  {
   "cell_type": "code",
   "execution_count": 28,
   "metadata": {
    "slideshow": {
     "slide_type": "fragment"
    }
   },
   "outputs": [
    {
     "data": {
      "text/plain": [
       "[[1, 2], [3, 4]]"
      ]
     },
     "execution_count": 28,
     "metadata": {},
     "output_type": "execute_result"
    }
   ],
   "source": [
    "#Moving from pandas to numpy to pure python\n",
    "df=pd.DataFrame([[1,2],[3,4]])\n",
    "arry = df.values\n",
    "arry.tolist()"
   ]
  },
  {
   "cell_type": "markdown",
   "metadata": {
    "slideshow": {
     "slide_type": "subslide"
    }
   },
   "source": [
    "But we are used to dealing with things a more complicated in computer science then learning a new api, so my recommendation is to get familiar with two of the main ways to access a data frame: loc and iloc."
   ]
  },
  {
   "cell_type": "code",
   "execution_count": 29,
   "metadata": {
    "slideshow": {
     "slide_type": "fragment"
    }
   },
   "outputs": [
    {
     "data": {
      "text/plain": [
       "A    1\n",
       "B    2\n",
       "C    3\n",
       "Name: One, dtype: int64"
      ]
     },
     "metadata": {},
     "output_type": "display_data"
    },
    {
     "data": {
      "text/plain": [
       "5"
      ]
     },
     "metadata": {},
     "output_type": "display_data"
    },
    {
     "data": {
      "text/plain": [
       "A    1\n",
       "B    2\n",
       "C    3\n",
       "Name: One, dtype: int64"
      ]
     },
     "metadata": {},
     "output_type": "display_data"
    },
    {
     "data": {
      "text/plain": [
       "6"
      ]
     },
     "metadata": {},
     "output_type": "display_data"
    }
   ],
   "source": [
    "df=pd.DataFrame([[1,2,3],[4,5,6]],index=[\"One\",\"Two\"],columns=[\"A\",\"B\",\"C\"])\n",
    "if debug:\n",
    "    display(df.loc[\"One\"])\n",
    "    display(df.loc[\"Two\",\"B\"])\n",
    "    display(df.iloc[0,:])\n",
    "    display(df.iloc[1,2])"
   ]
  },
  {
   "cell_type": "markdown",
   "metadata": {
    "slideshow": {
     "slide_type": "subslide"
    }
   },
   "source": [
    "## Our CG-island HMM"
   ]
  },
  {
   "cell_type": "code",
   "execution_count": 16,
   "metadata": {
    "slideshow": {
     "slide_type": "subslide"
    }
   },
   "outputs": [],
   "source": [
    "# Just an example at this point\n",
    "sequence = \"\"\"\n",
    "ACTGCTGGATGGTCACCCCCAGCACTGACTGTCTGGAAGCTCCAGGCTCAGCTCTCAGTTTCCTGGAGCA\n",
    "AGTGGGAGGATGAGGACAAGGAGGAACGAGGGCACTGGCCTCCCAGGAATTGTCCCTGAGCCTCCATCCT\n",
    "GCTGTCCTGAAGCTGCCCCTGAACCTCCAACTTGCTGTCCCCAGAACTGTCATTGAGCCTACACCATGCT\n",
    "ATCTCTAGAGCCCGGAAAGCCCAGGGCTGGACAAACCCCACCCCTCACTCCTCCTCTGGCCCCTTCTCCC\n",
    "AGCCATCAACACTTTGGAACAGCCATCAAGCCCCTTTTAATCTCTAGAAAGGTGCCTCAGTAAGGCACAG\n",
    "AGAGGTCACACCAGGTGGTCATGGTGCCTTACCTGTGTCCACTGGGCCCAGGCTGGCCCTTTAAGGGTAT\n",
    "GAGGGCAGAACAGCTGAGAGACCACACCCCACTTCTCAGAGAGGTCAGGGATAAAGAAAAGGGACAATGG\n",
    "AAGGAAGAACTTGTGGCCAGGATGCTGAGGGTAGAGGCTGCTCCCCACAGGCACTGAGCAGAGGGGTTGA\n",
    "GGGGGGAGCCTCCAGCCTCCATCCAGACAGGACCTCTGACCGCTGCTAGGGGCCCCTTCTCAGGAGGTTC\n",
    "AGTCTCAGACAAGGGCTCCAGAAACTTCAGTCCATTTTCCCAAAATGGACATGATGCATCTGGCGAGTCA\n",
    "GGGACCTAGAATGTCCAGGACCGAGCCTTGCTGAGGACAGAAGGGAGCAACATGCCCTGGAGGTCCTCAT\n",
    "GCAGCCCAGGCCTCTGGCAGTGACCAGCCAGCACCCAGGCAACTCCTTGCTGGGTCTCCAGGCCCTGATG\n",
    "GTCACAAGAAAGGCCACAGGCCAGGGCTGGGATGGGCCCAGAGCTCTGTGTGTTTCCTGGGAGGGCTGAG\n",
    "\"\"\"\n",
    "sequence = \"\".join(sequence.strip().split(\"\\n\"))"
   ]
  },
  {
   "cell_type": "code",
   "execution_count": 17,
   "metadata": {
    "slideshow": {
     "slide_type": "skip"
    }
   },
   "outputs": [
    {
     "output_type": "execute_result",
     "data": {
      "text/plain": "      AA     AC     AG     AT     CA     CC     CG     CT     GA     GC  \\\nI  0.053  0.079  0.127  0.036  0.037  0.058  0.058  0.041  0.035  0.075   \nN  0.087  0.058  0.084  0.061  0.067  0.063  0.017  0.063  0.053  0.053   \n\n      GG     GT     TA     TC     TG     TT  \nI  0.081  0.026  0.024  0.105  0.115  0.050  \nN  0.063  0.042  0.051  0.070  0.084  0.084  ",
      "text/html": "<div>\n<style scoped>\n    .dataframe tbody tr th:only-of-type {\n        vertical-align: middle;\n    }\n\n    .dataframe tbody tr th {\n        vertical-align: top;\n    }\n\n    .dataframe thead th {\n        text-align: right;\n    }\n</style>\n<table border=\"1\" class=\"dataframe\">\n  <thead>\n    <tr style=\"text-align: right;\">\n      <th></th>\n      <th>AA</th>\n      <th>AC</th>\n      <th>AG</th>\n      <th>AT</th>\n      <th>CA</th>\n      <th>CC</th>\n      <th>CG</th>\n      <th>CT</th>\n      <th>GA</th>\n      <th>GC</th>\n      <th>GG</th>\n      <th>GT</th>\n      <th>TA</th>\n      <th>TC</th>\n      <th>TG</th>\n      <th>TT</th>\n    </tr>\n  </thead>\n  <tbody>\n    <tr>\n      <th>I</th>\n      <td>0.053</td>\n      <td>0.079</td>\n      <td>0.127</td>\n      <td>0.036</td>\n      <td>0.037</td>\n      <td>0.058</td>\n      <td>0.058</td>\n      <td>0.041</td>\n      <td>0.035</td>\n      <td>0.075</td>\n      <td>0.081</td>\n      <td>0.026</td>\n      <td>0.024</td>\n      <td>0.105</td>\n      <td>0.115</td>\n      <td>0.050</td>\n    </tr>\n    <tr>\n      <th>N</th>\n      <td>0.087</td>\n      <td>0.058</td>\n      <td>0.084</td>\n      <td>0.061</td>\n      <td>0.067</td>\n      <td>0.063</td>\n      <td>0.017</td>\n      <td>0.063</td>\n      <td>0.053</td>\n      <td>0.053</td>\n      <td>0.063</td>\n      <td>0.042</td>\n      <td>0.051</td>\n      <td>0.070</td>\n      <td>0.084</td>\n      <td>0.084</td>\n    </tr>\n  </tbody>\n</table>\n</div>"
     },
     "metadata": {},
     "execution_count": 17
    }
   ],
   "source": [
    "states = [\"I\",\"N\"] # I: CG-island and N: not a CG-island\n",
    "# Emission frequencies from the book\n",
    "CG_island_freq = pd.DataFrame([\n",
    "    [0.053,0.079,0.127,0.036],\n",
    "    [0.037,0.058,0.058,0.041],\n",
    "    [0.035,0.075,0.081,0.026],\n",
    "    [0.024,0.105,0.115,0.05]\n",
    "],index=[\"A\",\"C\",\"G\",\"T\"],columns=[\"A\",\"C\",\"G\",\"T\"])\n",
    "not_CG_island_freq = pd.DataFrame([\n",
    "    [0.087,0.058,0.084,0.061],\n",
    "    [0.067,0.063,0.017,0.063],\n",
    "    [0.053,0.053,0.063,0.042],\n",
    "    [0.051,0.070,0.084,0.084]\n",
    "],index=[\"A\",\"C\",\"G\",\"T\"],columns=[\"A\",\"C\",\"G\",\"T\"])\n",
    "emission = []\n",
    "e = []\n",
    "for i in CG_island_freq.index:\n",
    "    for j in CG_island_freq.columns:\n",
    "        e.append(CG_island_freq.loc[i,j])\n",
    "emission.append(e)\n",
    "columns = []\n",
    "e = []\n",
    "for i in not_CG_island_freq.index:\n",
    "    for j in not_CG_island_freq.columns:\n",
    "        columns.append(i+j)\n",
    "        e.append(not_CG_island_freq.loc[i,j])\n",
    "emission.append(e)\n",
    "emission = pd.DataFrame(emission,columns=columns,index=states)\n",
    "emission"
   ]
  },
  {
   "cell_type": "code",
   "execution_count": 18,
   "metadata": {
    "slideshow": {
     "slide_type": "subslide"
    }
   },
   "outputs": [
    {
     "output_type": "execute_result",
     "data": {
      "text/plain": "            I       N\nstart  0.0001  0.9999\nI      0.9000  0.1000\nN      0.0500  0.9500",
      "text/html": "<div>\n<style scoped>\n    .dataframe tbody tr th:only-of-type {\n        vertical-align: middle;\n    }\n\n    .dataframe tbody tr th {\n        vertical-align: top;\n    }\n\n    .dataframe thead th {\n        text-align: right;\n    }\n</style>\n<table border=\"1\" class=\"dataframe\">\n  <thead>\n    <tr style=\"text-align: right;\">\n      <th></th>\n      <th>I</th>\n      <th>N</th>\n    </tr>\n  </thead>\n  <tbody>\n    <tr>\n      <th>start</th>\n      <td>0.0001</td>\n      <td>0.9999</td>\n    </tr>\n    <tr>\n      <th>I</th>\n      <td>0.9000</td>\n      <td>0.1000</td>\n    </tr>\n    <tr>\n      <th>N</th>\n      <td>0.0500</td>\n      <td>0.9500</td>\n    </tr>\n  </tbody>\n</table>\n</div>"
     },
     "metadata": {},
     "execution_count": 18
    }
   ],
   "source": [
    "pi = \"IIIINNNNNNNNNNNNNNNNNIIII\"\n",
    "sigma = emission.columns\n",
    "transition = pd.DataFrame([[0.0001,1-0.0001],[1-0.1,0.1],[0.05,1-0.05]],index=[\"start\"]+states,columns=states)\n",
    "transition"
   ]
  },
  {
   "cell_type": "code",
   "execution_count": 19,
   "metadata": {
    "slideshow": {
     "slide_type": "subslide"
    }
   },
   "outputs": [],
   "source": [
    "CG_island_hmm = (sigma,states,transition,emission)"
   ]
  },
  {
   "cell_type": "code",
   "execution_count": 20,
   "metadata": {
    "slideshow": {
     "slide_type": "fragment"
    }
   },
   "outputs": [
    {
     "output_type": "execute_result",
     "data": {
      "text/plain": "0.000584753392287407"
     },
     "metadata": {},
     "execution_count": 20
    }
   ],
   "source": [
    "prob_path(pi,CG_island_hmm)"
   ]
  },
  {
   "cell_type": "markdown",
   "metadata": {
    "slideshow": {
     "slide_type": "subslide"
    }
   },
   "source": [
    "So now we have the probability of a path through the hidden states, but how do we incorporate the sequence itself?\n",
    "\n",
    "$$\n",
    "Pr(x,\\pi)=???\n",
    "$$\n",
    "From the chain rule you get?"
   ]
  },
  {
   "cell_type": "markdown",
   "metadata": {
    "slideshow": {
     "slide_type": "fragment"
    }
   },
   "source": [
    "$$\n",
    "Pr(x,\\pi)=Pr(x|\\pi)*Pr(\\pi)\n",
    "$$\n",
    "We've already implemented $Pr(\\pi)$ above, so now we need to implement the probability that you emit a sequence given a known sequence of hidden states."
   ]
  },
  {
   "cell_type": "markdown",
   "metadata": {
    "slideshow": {
     "slide_type": "subslide"
    }
   },
   "source": [
    "$$\n",
    "Pr(x,\\pi)=\\prod_{i=1}^n emission_{\\pi_i}(x_i) * transition(\\pi_{i-1}\\rightarrow\\pi_i)\n",
    "$$"
   ]
  },
  {
   "cell_type": "markdown",
   "metadata": {
    "slideshow": {
     "slide_type": "subslide"
    }
   },
   "source": [
    "**Exercise 2**: Probability of an Outcome Given a Hidden Path Problem\n",
    "\n",
    "Given: A string $x$, followed by the alphabet $\\Sigma$ from which $x$ was constructed, followed by a hidden path $\\pi$, followed by the states $States$ and emission matrix $Emission$ of an HMM.\n",
    "\n",
    "Return: The conditional probability Pr(x|π) that string x will be emitted by the HMM given the hidden path $\\pi$."
   ]
  },
  {
   "cell_type": "code",
   "execution_count": 21,
   "metadata": {
    "slideshow": {
     "slide_type": "subslide"
    }
   },
   "outputs": [],
   "source": [
    "def prob_outcome_path(x,pi,hmm):\n",
    "    sigma,states,transition,emission=hmm\n",
    "    prob = 1/len(states) # probability from initial state pi_0 to pi_1 (assume uniform)\n",
    "    i_prev = pi[0]\n",
    "    for pi_i,x_i in zip(pi[1:],x[1:]):\n",
    "        prob *= emission.loc[pi_i,x_i] * transition.loc[pi_i,i_prev]\n",
    "        i_prev = pi_i\n",
    "    return prob"
   ]
  },
  {
   "cell_type": "code",
   "execution_count": 22,
   "metadata": {
    "slideshow": {
     "slide_type": "subslide"
    }
   },
   "outputs": [
    {
     "output_type": "execute_result",
     "data": {
      "text/plain": "8.313141825199131e-11"
     },
     "metadata": {},
     "execution_count": 22
    }
   ],
   "source": [
    "x = \"HHHHTTHTTTHHHH\"\n",
    "pi = \"FFFFBBBBFBFBBB\"\n",
    "\n",
    "\n",
    "prob_outcome_path(x,pi,coin_hmm)"
   ]
  },
  {
   "cell_type": "markdown",
   "metadata": {
    "slideshow": {
     "slide_type": "slide"
    }
   },
   "source": [
    "## Onto better questions and Dynamic Programming \n",
    "So far none of this is too interesting because we need to pass to much information to our functions and the questions our functions answer aren't very interesting. \n",
    "\n",
    "What *IS* interesting if is we known a sequence $x$? One thing that is interesting is finding the optimal/most likely path of hidden states. This is what would help us identify CG-islands. This is called the decoding problem, and it requires dynamic programming to implement efficiently. Luckily, we are good at that :)"
   ]
  },
  {
   "cell_type": "markdown",
   "metadata": {
    "slideshow": {
     "slide_type": "subslide"
    }
   },
   "source": [
    "**Exercise 3**: Decoding Problem\n",
    "\n",
    "Given: A string $x$, and a defined HMM (you know... with all the same variables as before).\n",
    "\n",
    "Return: A path that maximizes the probability Pr(x, $\\pi$) over all possible paths $\\pi$.\n",
    "\n",
    "Notes: You obviously cannot just naively enumerate all possible paths and then just select the max. You must use dynamic programming."
   ]
  },
  {
   "cell_type": "markdown",
   "metadata": {
    "slideshow": {
     "slide_type": "subslide"
    }
   },
   "source": [
    "Some things to help. Let's say that we have solved the problem up to a certain point $i$ in the sequence. We are in one of the hidden states from the set $States$. How we know what the optimal state is at that point? We keep track of the paths costs through a graph that looks like the one on the next slide. For a good example, I've found a great image, but it switches the states to whether you are happy and sad for a slightly different HMM. The concepts are exactly the same."
   ]
  },
  {
   "cell_type": "markdown",
   "metadata": {
    "slideshow": {
     "slide_type": "subslide"
    }
   },
   "source": [
    "<img src=\"https://miro.medium.com/max/3200/1*JlPYICS3_t8QkKILT3fqgQ.jpeg\" width=700>"
   ]
  },
  {
   "cell_type": "code",
   "execution_count": 127,
   "metadata": {
    "slideshow": {
     "slide_type": "subslide"
    }
   },
   "outputs": [],
   "source": [
    "import numpy as np\n",
    "from numpy import log\n",
    "\n",
    "def decode_path(x,hmm,debug=False,use_log=False):\n",
    "    sigma,states,transition,emission=hmm\n",
    "    if type(x) == str:\n",
    "        x = [c for c in x] # needed for pandas stuff\n",
    "    path_probs = pd.DataFrame(np.zeros((len(states),len(x))),columns=x,index=states)\n",
    "    previous_states = pd.DataFrame(\"?\",columns=x,index=states)\n",
    "    for i in range(path_probs.shape[0]): # Get the number of rows\n",
    "        if use_log:\n",
    "            path_probs.iloc[i,0] = log(transition.loc[\"start\",path_probs.index[i]])+log(emission.loc[path_probs.index[i],x[0]])\n",
    "        else:\n",
    "            path_probs.iloc[i,0] = transition.loc[\"start\",path_probs.index[i]]*emission.loc[path_probs.index[i],x[0]]\n",
    "        previous_states.iloc[i,0] = path_probs.index[i]\n",
    "    if debug:\n",
    "        display(path_probs)\n",
    "        display(previous_states)\n",
    "        \n",
    "    for t in range(1,len(x)):\n",
    "        for j in range(len(states)):\n",
    "            delta = [path_probs.iloc[i,t-1] * transition.iloc[j+1,i] * emission.iloc[j].loc[x[t]] for i in range(len(transition)-1)]\n",
    "            path_probs.iloc[j,t] = max(delta)\n",
    "            previous_states.iloc[j,t] = 'F' if max(delta) == delta[0] else 'B'\n",
    "            \n",
    "    if debug:\n",
    "        display(path_probs)\n",
    "        display(previous_states)\n",
    "\n",
    "    last_hidden_state = 'F' if max(path_probs.iloc[:,-1]) == path_probs.iloc[0,1] else 'B'\n",
    "    pi = previous_states.iloc[:,-1].loc[last_hidden_state]\n",
    "    for t in range(len(x)-2,-1,-1):\n",
    "        pi = previous_states.iloc[:,t].loc[pi[0]] + pi\n",
    "\n",
    "    return pi"
   ]
  },
  {
   "cell_type": "code",
   "execution_count": 128,
   "metadata": {
    "slideshow": {
     "slide_type": "subslide"
    }
   },
   "outputs": [
    {
     "output_type": "execute_result",
     "data": {
      "text/plain": "'FFFFFFFFFBBBBBBBFFFFF'"
     },
     "metadata": {},
     "execution_count": 128
    }
   ],
   "source": [
    "x = \"HTHTHTHTHHHHHHHTTTTTT\"\n",
    "sigma = [\"H\",\"T\"]\n",
    "states = [\"F\",\"B\"]\n",
    "transition = pd.DataFrame([[0.5,0.5],[0.65,0.35],[0.35,0.65]],index=[\"start\"]+states,columns=states)\n",
    "if debug:\n",
    "    display(transition)\n",
    "emission = pd.DataFrame([[0.5,0.5],[0.75,0.25]],index=states,columns=sigma)\n",
    "if debug:\n",
    "    display(emission)\n",
    "\n",
    "coin_hmm2 = (sigma,states,transition,emission) # transition if different because I've added a start state we need\n",
    "\n",
    "pi = decode_path(x,coin_hmm2,debug=debug)\n",
    "pi"
   ]
  },
  {
   "cell_type": "markdown",
   "metadata": {
    "slideshow": {
     "slide_type": "subslide"
    }
   },
   "source": [
    "**Exercise 4**: Likelihood problem\n",
    "\n",
    "Given: A string $x$, followed by an HMM.\n",
    "\n",
    "Return: The probability the $x$ was emitted by the HMM."
   ]
  },
  {
   "cell_type": "code",
   "execution_count": 137,
   "metadata": {
    "slideshow": {
     "slide_type": "subslide"
    }
   },
   "outputs": [],
   "source": [
    "def likelihood_x(x,hmm,debug=False):\n",
    "    sigma,states,transition,emission=hmm\n",
    "    if type(x) == str:\n",
    "        x = [c for c in x] # needed for pandas stuff\n",
    "    path_probs = pd.DataFrame(np.zeros((len(states),len(x))),columns=x,index=states)\n",
    "    for i in range(path_probs.shape[0]): # Get the number of rows\n",
    "        path_probs.iloc[i,0] = transition.loc[\"start\",path_probs.index[i]]*emission.loc[path_probs.index[i],x[0]]\n",
    "\n",
    "    for t in range(1,len(x)):\n",
    "        for j in range(len(states)):\n",
    "            delta = [path_probs.iloc[i,t-1] * transition.iloc[j+1,i] * emission.iloc[j].loc[x[t]] for i in range(len(transition)-1)]\n",
    "            path_probs.iloc[j,t] = sum(delta)\n",
    "\n",
    "    return sum(path_probs.iloc[:,-1])"
   ]
  },
  {
   "cell_type": "code",
   "execution_count": 138,
   "metadata": {
    "lines_to_next_cell": 0,
    "slideshow": {
     "slide_type": "subslide"
    }
   },
   "outputs": [
    {
     "output_type": "execute_result",
     "data": {
      "text/plain": "3.544483822174205e-07"
     },
     "metadata": {},
     "execution_count": 138
    }
   ],
   "source": [
    "x = \"HTHTHTHTHHHHHHHTTTTTT\"\n",
    "prob = likelihood_x(x,coin_hmm2,debug=debug)\n",
    "\n",
    "\n",
    "prob"
   ]
  },
  {
   "cell_type": "markdown",
   "metadata": {
    "slideshow": {
     "slide_type": "slide"
    }
   },
   "source": [
    "## What about our CG-islands?\n",
    "Let's read a snipit and the human genome."
   ]
  },
  {
   "cell_type": "code",
   "execution_count": 139,
   "metadata": {
    "slideshow": {
     "slide_type": "subslide"
    }
   },
   "outputs": [
    {
     "output_type": "stream",
     "name": "stdout",
     "text": "Opening ../../csc-448-student/data/sample.fa\nCTAACCCTAA ... GCCGACCTGG\n10000\n"
    }
   ],
   "source": [
    "import os.path\n",
    "\n",
    "file = None\n",
    "locations = ['../data/sample.fa','../csc-448-student/data/sample.fa','../../csc-448-student/data/sample.fa']\n",
    "for f in locations:\n",
    "    if os.path.isfile(f):\n",
    "        file = f\n",
    "        break\n",
    "print('Opening',file)\n",
    "sequence = (\"\".join(open(file).read().upper().split(\"\\n\")[1:])).strip()[:10000]\n",
    "print(sequence[:10],\"...\",sequence[-10:])\n",
    "print(len(sequence))"
   ]
  },
  {
   "cell_type": "markdown",
   "metadata": {
    "slideshow": {
     "slide_type": "subslide"
    }
   },
   "source": [
    "**Exercise 5 (for fun - please comment out before submitting to the autograder)**: Find the CG-islands\n",
    "\n",
    "Given: A string $x$, followed by an HMM.\n",
    "\n",
    "Return: A path that maximizes the probability Pr(x, $\\pi$) over all possible paths $\\pi$."
   ]
  },
  {
   "cell_type": "code",
   "execution_count": 141,
   "metadata": {
    "slideshow": {
     "slide_type": "subslide"
    }
   },
   "outputs": [],
   "source": [
    "x = [sequence[i:i+2] for i in range(0,len(sequence)-1)]\n",
    "#pi_discard = decode_path(x,CG_island_hmm,debug=True,use_log=False)\n",
    "\n",
    "#pi = decode_path(x,CG_island_hmm,debug=True,use_log=True)\n",
    "\n",
    "#len(pi)"
   ]
  },
  {
   "cell_type": "code",
   "execution_count": 51,
   "metadata": {
    "slideshow": {
     "slide_type": "subslide"
    }
   },
   "outputs": [
    {
     "data": {
      "text/plain": [
       "'4034N 250I 181N 557I 4112N 165I 181N 519I'"
      ]
     },
     "execution_count": 51,
     "metadata": {},
     "output_type": "execute_result"
    }
   ],
   "source": [
    "sections = []\n",
    "for i in range(len(pi)):\n",
    "    if len(sections) == 0:\n",
    "        sections.append([pi[i]])\n",
    "    else:\n",
    "        if sections[-1][0] == pi[i]:\n",
    "            sections[-1].append(pi[i])\n",
    "        else:\n",
    "            sections.append([pi[i]])\n",
    "prettypi = \" \".join([\"%d%s\"%(len(section),section[0]) for section in sections])\n",
    "prettypi"
   ]
  },
  {
   "cell_type": "markdown",
   "metadata": {
    "slideshow": {
     "slide_type": "slide"
    }
   },
   "source": [
    "## Profile HMMs and Training\n",
    "* Profile HMMs for Sequence Alignment\n",
    "   * Separate HMM for each family\n",
    "   * Seeded with multiple sequence alignment\n",
    "   * Trained on a lot of sequences from the same family\n",
    "   * We can then ask what is the family of a sequence (with unknown family) by checking it against each HMM!\n",
    "* Training\n",
    "   * Learning the correct transition and emission rates are not beyond our understanding, but in the interest of time I've left them out of this online version of this class. The book has a good section on this material."
   ]
  },
  {
   "cell_type": "code",
   "execution_count": 44,
   "metadata": {
    "slideshow": {
     "slide_type": "skip"
    }
   },
   "outputs": [],
   "source": [
    "# Don't forget to push! (set debug to False)"
   ]
  }
 ],
 "metadata": {
  "celltoolbar": "Slideshow",
  "jupytext": {
   "formats": "ipynb,md,py"
  },
  "kernelspec": {
   "display_name": "Python 3",
   "language": "python",
   "name": "python3"
  },
  "language_info": {
   "codemirror_mode": {
    "name": "ipython",
    "version": 3
   },
   "file_extension": ".py",
   "mimetype": "text/x-python",
   "name": "python",
   "nbconvert_exporter": "python",
   "pygments_lexer": "ipython3",
   "version": "3.8.2-final"
  }
 },
 "nbformat": 4,
 "nbformat_minor": 4
}